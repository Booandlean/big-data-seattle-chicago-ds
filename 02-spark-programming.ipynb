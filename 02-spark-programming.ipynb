{
 "cells": [
  {
   "cell_type": "markdown",
   "metadata": {},
   "source": [
    "# Spark: Getting Started"
   ]
  },
  {
   "cell_type": "markdown",
   "metadata": {},
   "source": [
    "\n",
    "## Step 0: Prerequisites & Installation\n",
    "\n",
    "Follow [these instructions](https://docs.databricks.com/notebooks/notebooks-manage.html#import-a-notebook) to import this notebook into Databricks\n",
    "\n",
    "Run these commands in your terminal (just once) if you want to run Spark locally.\n",
    "\n",
    " * These instructions require a Mac with [Anaconda3](https://anaconda.com/) and [Homebrew](https://brew.sh/) installed.\n",
    " * Useful for small data only. For larger data, try [Databricks](https://databricks.com/).\n",
    "\n",
    "```bash\n",
    "# Make Homebrew aware of old versions of casks\n",
    "brew tap caskroom/versions\n",
    "\n",
    "# Install Java 1.8 (OpenJDK 8)\n",
    "brew cask install adoptopenjdk8\n",
    "\n",
    "# Install the current version of Spark\n",
    "brew install apache-spark\n",
    "\n",
    "# Install Py4J (connects PySpark to the Java Virtual Machine)\n",
    "pip install py4j\n",
    "\n",
    "# Add JAVA_HOME to .bash_profile (makes Java 1.8 your default JVM)\n",
    "echo \"\\n# Apache Spark\\nexport JAVA_HOME=$(/usr/libexec/java_home -v 1.8)\" >> ~/.bash_profile\n",
    "\n",
    "# Add SPARK_HOME to .bash_profile\n",
    "echo \"\\nexport SPARK_HOME=/usr/local/Cellar/apache-spark/2.4.5/libexec\" >> ~/.bash_profile\n",
    "\n",
    "# Add PySpark to PYTHONPATH in .bash_profile\n",
    "echo \"\\nexport PYTHONPATH=$SPARK_HOME/python:$PYTHONPATH\" >> ~/.bash_profile\n",
    "\n",
    "# Update current environment\n",
    "source ~/.bash_profile\n",
    "\n",
    "```"
   ]
  },
  {
   "cell_type": "markdown",
   "metadata": {},
   "source": [
    "## Step 1: Create a SparkSession with a SparkContext"
   ]
  },
  {
   "cell_type": "code",
   "execution_count": 4,
   "metadata": {},
   "outputs": [
    {
     "data": {
      "text/html": [
       "<style scoped>\n",
       "  .ansiout {\n",
       "    display: block;\n",
       "    unicode-bidi: embed;\n",
       "    white-space: pre-wrap;\n",
       "    word-wrap: break-word;\n",
       "    word-break: break-all;\n",
       "    font-family: \"Source Code Pro\", \"Menlo\", monospace;;\n",
       "    font-size: 13px;\n",
       "    color: #555;\n",
       "    margin-left: 4px;\n",
       "    line-height: 19px;\n",
       "  }\n",
       "</style>\n",
       "<div class=\"ansiout\"></div>"
      ]
     },
     "metadata": {},
     "output_type": "display_data"
    }
   ],
   "source": [
    "import pyspark\n",
    "\n",
    "# un-comment the following lines if you are running Spark locally\n",
    "# spark = pyspark.sql.SparkSession.builder.getOrCreate()\n",
    "# sc = spark.sparkContext"
   ]
  },
  {
   "cell_type": "code",
   "execution_count": 5,
   "metadata": {},
   "outputs": [
    {
     "data": {
      "text/html": [
       "\n",
       "            <div>\n",
       "                <p><b>SparkSession - hive</b></p>\n",
       "                \n",
       "        <div>\n",
       "            <p><b>SparkContext</b></p>\n",
       "\n",
       "            <p><a href=\"http://10.172.225.207:45065\">Spark UI</a></p>\n",
       "\n",
       "            <dl>\n",
       "              <dt>Version</dt>\n",
       "                <dd><code>v2.4.4</code></dd>\n",
       "              <dt>Master</dt>\n",
       "                <dd><code>local[8]</code></dd>\n",
       "              <dt>AppName</dt>\n",
       "                <dd><code>Databricks Shell</code></dd>\n",
       "            </dl>\n",
       "        </div>\n",
       "        \n",
       "            </div>\n",
       "        "
      ]
     },
     "metadata": {},
     "output_type": "display_data"
    }
   ],
   "source": [
    "spark"
   ]
  },
  {
   "cell_type": "code",
   "execution_count": 6,
   "metadata": {
    "scrolled": true
   },
   "outputs": [
    {
     "data": {
      "text/html": [
       "\n",
       "        <div>\n",
       "            <p><b>SparkContext</b></p>\n",
       "\n",
       "            <p><a href=\"http://10.172.225.207:45065\">Spark UI</a></p>\n",
       "\n",
       "            <dl>\n",
       "              <dt>Version</dt>\n",
       "                <dd><code>v2.4.4</code></dd>\n",
       "              <dt>Master</dt>\n",
       "                <dd><code>local[8]</code></dd>\n",
       "              <dt>AppName</dt>\n",
       "                <dd><code>Databricks Shell</code></dd>\n",
       "            </dl>\n",
       "        </div>\n",
       "        "
      ]
     },
     "metadata": {},
     "output_type": "display_data"
    }
   ],
   "source": [
    "sc"
   ]
  },
  {
   "cell_type": "markdown",
   "metadata": {},
   "source": [
    "If we need a broadcast (i.e. global) variable, we can declare it like so:"
   ]
  },
  {
   "cell_type": "code",
   "execution_count": 8,
   "metadata": {},
   "outputs": [
    {
     "data": {
      "text/html": [
       "<style scoped>\n",
       "  .ansiout {\n",
       "    display: block;\n",
       "    unicode-bidi: embed;\n",
       "    white-space: pre-wrap;\n",
       "    word-wrap: break-word;\n",
       "    word-break: break-all;\n",
       "    font-family: \"Source Code Pro\", \"Menlo\", monospace;;\n",
       "    font-size: 13px;\n",
       "    color: #555;\n",
       "    margin-left: 4px;\n",
       "    line-height: 19px;\n",
       "  }\n",
       "</style>\n",
       "<div class=\"ansiout\">Out[4]: [1, 2]</div>"
      ]
     },
     "metadata": {},
     "output_type": "display_data"
    }
   ],
   "source": [
    "glob = sc.broadcast(list(range(1, 3)))\n",
    "glob.value"
   ]
  },
  {
   "cell_type": "markdown",
   "metadata": {},
   "source": [
    "## Step 2: Download some Amazon reviews (Toys & Games)"
   ]
  },
  {
   "cell_type": "code",
   "execution_count": 10,
   "metadata": {},
   "outputs": [],
   "source": [
    "# Data is already in the repo, but you can also get it with\n",
    "# !wget http://snap.stanford.edu/data/amazon/productGraph/categoryFiles/reviews_Toys_and_Games_5.json.gz\n",
    "# !gunzip reviews_Toys_and_Games_5.json.gz"
   ]
  },
  {
   "cell_type": "markdown",
   "metadata": {},
   "source": [
    "Follow [these instructions](https://docs.databricks.com/data/data.html#import-data-1) to import `reviews_Toys_and_Games_5.json` into Databricks"
   ]
  },
  {
   "cell_type": "markdown",
   "metadata": {},
   "source": [
    "## Step 3: Create a Spark DataFrame"
   ]
  },
  {
   "cell_type": "code",
   "execution_count": 13,
   "metadata": {},
   "outputs": [
    {
     "data": {
      "text/html": [
       "<style scoped>\n",
       "  .ansiout {\n",
       "    display: block;\n",
       "    unicode-bidi: embed;\n",
       "    white-space: pre-wrap;\n",
       "    word-wrap: break-word;\n",
       "    word-break: break-all;\n",
       "    font-family: \"Source Code Pro\", \"Menlo\", monospace;;\n",
       "    font-size: 13px;\n",
       "    color: #555;\n",
       "    margin-left: 4px;\n",
       "    line-height: 19px;\n",
       "  }\n",
       "</style>\n",
       "<div class=\"ansiout\"></div>"
      ]
     },
     "metadata": {},
     "output_type": "display_data"
    }
   ],
   "source": [
    "# this file path will be different if you are running Spark locally\n",
    "df = spark.read.json('/FileStore/tables/reviews_Toys_and_Games_5.json')"
   ]
  },
  {
   "cell_type": "code",
   "execution_count": 14,
   "metadata": {},
   "outputs": [
    {
     "data": {
      "text/html": [
       "<style scoped>\n",
       "  .ansiout {\n",
       "    display: block;\n",
       "    unicode-bidi: embed;\n",
       "    white-space: pre-wrap;\n",
       "    word-wrap: break-word;\n",
       "    word-break: break-all;\n",
       "    font-family: \"Source Code Pro\", \"Menlo\", monospace;;\n",
       "    font-size: 13px;\n",
       "    color: #555;\n",
       "    margin-left: 4px;\n",
       "    line-height: 19px;\n",
       "  }\n",
       "</style>\n",
       "<div class=\"ansiout\">Out[6]: DataFrame[asin: string, helpful: array&lt;bigint&gt;, overall: double, reviewText: string, reviewTime: string, reviewerID: string, reviewerName: string, summary: string, unixReviewTime: bigint]</div>"
      ]
     },
     "metadata": {},
     "output_type": "display_data"
    }
   ],
   "source": [
    "df.persist()"
   ]
  },
  {
   "cell_type": "markdown",
   "metadata": {},
   "source": [
    "This last command, `.persist()`, simply stores the DataFrame in memory. See [this page](https://unraveldata.com/to-cache-or-not-to-cache/). It is similar to `.cache()`, but actually more flexible than the latter since you can specify which storage level you want. See [here](https://stackoverflow.com/questions/26870537/what-is-the-difference-between-cache-and-persist)."
   ]
  },
  {
   "cell_type": "code",
   "execution_count": 16,
   "metadata": {},
   "outputs": [
    {
     "data": {
      "text/html": [
       "<style scoped>\n",
       "  .ansiout {\n",
       "    display: block;\n",
       "    unicode-bidi: embed;\n",
       "    white-space: pre-wrap;\n",
       "    word-wrap: break-word;\n",
       "    word-break: break-all;\n",
       "    font-family: \"Source Code Pro\", \"Menlo\", monospace;;\n",
       "    font-size: 13px;\n",
       "    color: #555;\n",
       "    margin-left: 4px;\n",
       "    line-height: 19px;\n",
       "  }\n",
       "</style>\n",
       "<div class=\"ansiout\">Out[7]: pyspark.sql.dataframe.DataFrame</div>"
      ]
     },
     "metadata": {},
     "output_type": "display_data"
    }
   ],
   "source": [
    "type(df)"
   ]
  },
  {
   "cell_type": "code",
   "execution_count": 17,
   "metadata": {},
   "outputs": [
    {
     "data": {
      "text/html": [
       "<style scoped>\n",
       "  .ansiout {\n",
       "    display: block;\n",
       "    unicode-bidi: embed;\n",
       "    white-space: pre-wrap;\n",
       "    word-wrap: break-word;\n",
       "    word-break: break-all;\n",
       "    font-family: \"Source Code Pro\", \"Menlo\", monospace;;\n",
       "    font-size: 13px;\n",
       "    color: #555;\n",
       "    margin-left: 4px;\n",
       "    line-height: 19px;\n",
       "  }\n",
       "</style>\n",
       "<div class=\"ansiout\">+----------+-------+-------+--------------------+-----------+--------------+--------------+--------------------+--------------+\n",
       "      asin|helpful|overall|          reviewText| reviewTime|    reviewerID|  reviewerName|             summary|unixReviewTime|\n",
       "+----------+-------+-------+--------------------+-----------+--------------+--------------+--------------------+--------------+\n",
       "0439893577| [0, 0]|    5.0|I like the item p...|01 29, 2014|A1VXOAVRGKGEAK|         Angie|      Magnetic board|    1390953600|\n",
       "0439893577| [1, 1]|    4.0|Love the magnet e...|03 28, 2014| A8R62G708TSCM|       Candace|it works pretty g...|    1395964800|\n",
       "0439893577| [1, 1]|    5.0|Both sides are ma...|01 28, 2013|A21KH420DK0ICA|capemaychristy|          love this!|    1359331200|\n",
       "0439893577| [0, 0]|    5.0|Bought one a few ...| 02 8, 2014| AR29QK6HPFYZ4|          dcrm|   Daughters love it|    1391817600|\n",
       "0439893577| [1, 1]|    4.0|I have a stainles...| 05 5, 2014| ACCH8EOML6FN5|          DoyZ|Great to have so ...|    1399248000|\n",
       "+----------+-------+-------+--------------------+-----------+--------------+--------------+--------------------+--------------+\n",
       "only showing top 5 rows\n",
       "\n",
       "</div>"
      ]
     },
     "metadata": {},
     "output_type": "display_data"
    }
   ],
   "source": [
    "df.show(5) # default of 20 lines"
   ]
  },
  {
   "cell_type": "code",
   "execution_count": 18,
   "metadata": {},
   "outputs": [
    {
     "data": {
      "text/html": [
       "<div>\n",
       "<style scoped>\n",
       "    .dataframe tbody tr th:only-of-type {\n",
       "        vertical-align: middle;\n",
       "    }\n",
       "\n",
       "    .dataframe tbody tr th {\n",
       "        vertical-align: top;\n",
       "    }\n",
       "\n",
       "    .dataframe thead th {\n",
       "        text-align: right;\n",
       "    }\n",
       "</style>\n",
       "<table border=\"1\" class=\"dataframe\">\n",
       "  <thead>\n",
       "    <tr style=\"text-align: right;\">\n",
       "      <th></th>\n",
       "      <th>asin</th>\n",
       "      <th>helpful</th>\n",
       "      <th>overall</th>\n",
       "      <th>reviewText</th>\n",
       "      <th>reviewTime</th>\n",
       "      <th>reviewerID</th>\n",
       "      <th>reviewerName</th>\n",
       "      <th>summary</th>\n",
       "      <th>unixReviewTime</th>\n",
       "    </tr>\n",
       "  </thead>\n",
       "  <tbody>\n",
       "    <tr>\n",
       "      <th>0</th>\n",
       "      <td>0439893577</td>\n",
       "      <td>[0, 0]</td>\n",
       "      <td>5.0</td>\n",
       "      <td>I like the item pricing. My granddaughter want...</td>\n",
       "      <td>01 29, 2014</td>\n",
       "      <td>A1VXOAVRGKGEAK</td>\n",
       "      <td>Angie</td>\n",
       "      <td>Magnetic board</td>\n",
       "      <td>1390953600</td>\n",
       "    </tr>\n",
       "    <tr>\n",
       "      <th>1</th>\n",
       "      <td>0439893577</td>\n",
       "      <td>[1, 1]</td>\n",
       "      <td>4.0</td>\n",
       "      <td>Love the magnet easel... great for moving to d...</td>\n",
       "      <td>03 28, 2014</td>\n",
       "      <td>A8R62G708TSCM</td>\n",
       "      <td>Candace</td>\n",
       "      <td>it works pretty good for moving to different a...</td>\n",
       "      <td>1395964800</td>\n",
       "    </tr>\n",
       "    <tr>\n",
       "      <th>2</th>\n",
       "      <td>0439893577</td>\n",
       "      <td>[1, 1]</td>\n",
       "      <td>5.0</td>\n",
       "      <td>Both sides are magnetic.  A real plus when you...</td>\n",
       "      <td>01 28, 2013</td>\n",
       "      <td>A21KH420DK0ICA</td>\n",
       "      <td>capemaychristy</td>\n",
       "      <td>love this!</td>\n",
       "      <td>1359331200</td>\n",
       "    </tr>\n",
       "    <tr>\n",
       "      <th>3</th>\n",
       "      <td>0439893577</td>\n",
       "      <td>[0, 0]</td>\n",
       "      <td>5.0</td>\n",
       "      <td>Bought one a few years ago for my daughter and...</td>\n",
       "      <td>02 8, 2014</td>\n",
       "      <td>AR29QK6HPFYZ4</td>\n",
       "      <td>dcrm</td>\n",
       "      <td>Daughters love it</td>\n",
       "      <td>1391817600</td>\n",
       "    </tr>\n",
       "    <tr>\n",
       "      <th>4</th>\n",
       "      <td>0439893577</td>\n",
       "      <td>[1, 1]</td>\n",
       "      <td>4.0</td>\n",
       "      <td>I have a stainless steel refrigerator therefor...</td>\n",
       "      <td>05 5, 2014</td>\n",
       "      <td>ACCH8EOML6FN5</td>\n",
       "      <td>DoyZ</td>\n",
       "      <td>Great to have so he can play with his alphabet...</td>\n",
       "      <td>1399248000</td>\n",
       "    </tr>\n",
       "  </tbody>\n",
       "</table>\n",
       "</div>"
      ]
     },
     "metadata": {},
     "output_type": "display_data"
    }
   ],
   "source": [
    "pdf = df.limit(5).toPandas()\n",
    "pdf"
   ]
  },
  {
   "cell_type": "code",
   "execution_count": 19,
   "metadata": {},
   "outputs": [
    {
     "data": {
      "text/html": [
       "<style scoped>\n",
       "  .ansiout {\n",
       "    display: block;\n",
       "    unicode-bidi: embed;\n",
       "    white-space: pre-wrap;\n",
       "    word-wrap: break-word;\n",
       "    word-break: break-all;\n",
       "    font-family: \"Source Code Pro\", \"Menlo\", monospace;;\n",
       "    font-size: 13px;\n",
       "    color: #555;\n",
       "    margin-left: 4px;\n",
       "    line-height: 19px;\n",
       "  }\n",
       "</style>\n",
       "<div class=\"ansiout\">Out[10]: pandas.core.frame.DataFrame</div>"
      ]
     },
     "metadata": {},
     "output_type": "display_data"
    }
   ],
   "source": [
    "type(pdf)"
   ]
  },
  {
   "cell_type": "code",
   "execution_count": 20,
   "metadata": {},
   "outputs": [
    {
     "data": {
      "text/html": [
       "<style scoped>\n",
       "  .ansiout {\n",
       "    display: block;\n",
       "    unicode-bidi: embed;\n",
       "    white-space: pre-wrap;\n",
       "    word-wrap: break-word;\n",
       "    word-break: break-all;\n",
       "    font-family: \"Source Code Pro\", \"Menlo\", monospace;;\n",
       "    font-size: 13px;\n",
       "    color: #555;\n",
       "    margin-left: 4px;\n",
       "    line-height: 19px;\n",
       "  }\n",
       "</style>\n",
       "<div class=\"ansiout\">Out[11]: 167597</div>"
      ]
     },
     "metadata": {},
     "output_type": "display_data"
    }
   ],
   "source": [
    "df.count()"
   ]
  },
  {
   "cell_type": "code",
   "execution_count": 21,
   "metadata": {},
   "outputs": [
    {
     "data": {
      "text/html": [
       "<style scoped>\n",
       "  .ansiout {\n",
       "    display: block;\n",
       "    unicode-bidi: embed;\n",
       "    white-space: pre-wrap;\n",
       "    word-wrap: break-word;\n",
       "    word-break: break-all;\n",
       "    font-family: \"Source Code Pro\", \"Menlo\", monospace;;\n",
       "    font-size: 13px;\n",
       "    color: #555;\n",
       "    margin-left: 4px;\n",
       "    line-height: 19px;\n",
       "  }\n",
       "</style>\n",
       "<div class=\"ansiout\">Out[12]: [&#39;asin&#39;,\n",
       " &#39;helpful&#39;,\n",
       " &#39;overall&#39;,\n",
       " &#39;reviewText&#39;,\n",
       " &#39;reviewTime&#39;,\n",
       " &#39;reviewerID&#39;,\n",
       " &#39;reviewerName&#39;,\n",
       " &#39;summary&#39;,\n",
       " &#39;unixReviewTime&#39;]</div>"
      ]
     },
     "metadata": {},
     "output_type": "display_data"
    }
   ],
   "source": [
    "df.columns"
   ]
  },
  {
   "cell_type": "code",
   "execution_count": 22,
   "metadata": {},
   "outputs": [
    {
     "data": {
      "text/html": [
       "<style scoped>\n",
       "  .ansiout {\n",
       "    display: block;\n",
       "    unicode-bidi: embed;\n",
       "    white-space: pre-wrap;\n",
       "    word-wrap: break-word;\n",
       "    word-break: break-all;\n",
       "    font-family: \"Source Code Pro\", \"Menlo\", monospace;;\n",
       "    font-size: 13px;\n",
       "    color: #555;\n",
       "    margin-left: 4px;\n",
       "    line-height: 19px;\n",
       "  }\n",
       "</style>\n",
       "<div class=\"ansiout\">root\n",
       "-- asin: string (nullable = true)\n",
       "-- helpful: array (nullable = true)\n",
       "    |-- element: long (containsNull = true)\n",
       "-- overall: double (nullable = true)\n",
       "-- reviewText: string (nullable = true)\n",
       "-- reviewTime: string (nullable = true)\n",
       "-- reviewerID: string (nullable = true)\n",
       "-- reviewerName: string (nullable = true)\n",
       "-- summary: string (nullable = true)\n",
       "-- unixReviewTime: long (nullable = true)\n",
       "\n",
       "</div>"
      ]
     },
     "metadata": {},
     "output_type": "display_data"
    }
   ],
   "source": [
    "df.printSchema()"
   ]
  },
  {
   "cell_type": "markdown",
   "metadata": {},
   "source": [
    "The 'nullable = true' bit means that the relevant column tolerates null values."
   ]
  },
  {
   "cell_type": "code",
   "execution_count": 24,
   "metadata": {},
   "outputs": [
    {
     "data": {
      "text/html": [
       "<style scoped>\n",
       "  .ansiout {\n",
       "    display: block;\n",
       "    unicode-bidi: embed;\n",
       "    white-space: pre-wrap;\n",
       "    word-wrap: break-word;\n",
       "    word-break: break-all;\n",
       "    font-family: \"Source Code Pro\", \"Menlo\", monospace;;\n",
       "    font-size: 13px;\n",
       "    color: #555;\n",
       "    margin-left: 4px;\n",
       "    line-height: 19px;\n",
       "  }\n",
       "</style>\n",
       "<div class=\"ansiout\">+-------+--------------------+------------------+--------------------+----------+--------------------+--------------------+--------------------+--------------------+\n",
       "summary|                asin|           overall|          reviewText|reviewTime|          reviewerID|        reviewerName|             summary|      unixReviewTime|\n",
       "+-------+--------------------+------------------+--------------------+----------+--------------------+--------------------+--------------------+--------------------+\n",
       "  count|              167597|            167597|              167597|    167597|              167597|              166759|              167597|              167597|\n",
       "   mean|2.1290876613696043E9| 4.356307093802395|                null|      null|                null|   474.1111111111111|               600.0|1.3487585072095563E9|\n",
       " stddev|2.1305790004603045E9|0.9935012992132014|                null|      null|                null|   517.0615833762786|                 NaN| 6.089580845001178E7|\n",
       "    min|          0439893577|               1.0|                    |01 1, 2001|A012468118FTQAINE...|                    |     !  Just Junk  !|           964742400|\n",
       "    max|          B00LBI9BKA|               5.0|~the RED &#34;B/2&#34; bl...|12 9, 2013|       AZZYW4YOE1B6E|~purplemoon~ &#34;The...|~My 9 year old sp...|          1406073600|\n",
       "+-------+--------------------+------------------+--------------------+----------+--------------------+--------------------+--------------------+--------------------+\n",
       "\n",
       "</div>"
      ]
     },
     "metadata": {},
     "output_type": "display_data"
    }
   ],
   "source": [
    "df.describe().show()"
   ]
  },
  {
   "cell_type": "code",
   "execution_count": 25,
   "metadata": {},
   "outputs": [
    {
     "data": {
      "text/html": [
       "<style scoped>\n",
       "  .ansiout {\n",
       "    display: block;\n",
       "    unicode-bidi: embed;\n",
       "    white-space: pre-wrap;\n",
       "    word-wrap: break-word;\n",
       "    word-break: break-all;\n",
       "    font-family: \"Source Code Pro\", \"Menlo\", monospace;;\n",
       "    font-size: 13px;\n",
       "    color: #555;\n",
       "    margin-left: 4px;\n",
       "    line-height: 19px;\n",
       "  }\n",
       "</style>\n",
       "<div class=\"ansiout\">+-------+------------------+\n",
       "summary|           overall|\n",
       "+-------+------------------+\n",
       "  count|            167597|\n",
       "   mean| 4.356307093802395|\n",
       " stddev|0.9935012992132014|\n",
       "    min|               1.0|\n",
       "    max|               5.0|\n",
       "+-------+------------------+\n",
       "\n",
       "</div>"
      ]
     },
     "metadata": {},
     "output_type": "display_data"
    }
   ],
   "source": [
    "df.describe('overall').show()"
   ]
  },
  {
   "cell_type": "code",
   "execution_count": 26,
   "metadata": {},
   "outputs": [
    {
     "data": {
      "text/html": [
       "<style scoped>\n",
       "  .ansiout {\n",
       "    display: block;\n",
       "    unicode-bidi: embed;\n",
       "    white-space: pre-wrap;\n",
       "    word-wrap: break-word;\n",
       "    word-break: break-all;\n",
       "    font-family: \"Source Code Pro\", \"Menlo\", monospace;;\n",
       "    font-size: 13px;\n",
       "    color: #555;\n",
       "    margin-left: 4px;\n",
       "    line-height: 19px;\n",
       "  }\n",
       "</style>\n",
       "<div class=\"ansiout\"></div>"
      ]
     },
     "metadata": {},
     "output_type": "display_data"
    }
   ],
   "source": [
    "reviews_df = df[['asin', 'overall']]"
   ]
  },
  {
   "cell_type": "code",
   "execution_count": 27,
   "metadata": {},
   "outputs": [
    {
     "data": {
      "text/html": [
       "<style scoped>\n",
       "  .ansiout {\n",
       "    display: block;\n",
       "    unicode-bidi: embed;\n",
       "    white-space: pre-wrap;\n",
       "    word-wrap: break-word;\n",
       "    word-break: break-all;\n",
       "    font-family: \"Source Code Pro\", \"Menlo\", monospace;;\n",
       "    font-size: 13px;\n",
       "    color: #555;\n",
       "    margin-left: 4px;\n",
       "    line-height: 19px;\n",
       "  }\n",
       "</style>\n",
       "<div class=\"ansiout\">+----------+-------+\n",
       "      asin|overall|\n",
       "+----------+-------+\n",
       "0439893577|    5.0|\n",
       "0439893577|    4.0|\n",
       "0439893577|    5.0|\n",
       "0439893577|    5.0|\n",
       "0439893577|    4.0|\n",
       "0439893577|    3.0|\n",
       "0439893577|    3.0|\n",
       "0439893577|    5.0|\n",
       "0439893577|    4.0|\n",
       "0439893577|    3.0|\n",
       "0439893577|    5.0|\n",
       "0439893577|    5.0|\n",
       "0439893577|    3.0|\n",
       "0439893577|    5.0|\n",
       "0439893577|    5.0|\n",
       "0439893577|    5.0|\n",
       "0439893577|    5.0|\n",
       "048645195X|    5.0|\n",
       "048645195X|    4.0|\n",
       "048645195X|    5.0|\n",
       "+----------+-------+\n",
       "only showing top 20 rows\n",
       "\n",
       "</div>"
      ]
     },
     "metadata": {},
     "output_type": "display_data"
    }
   ],
   "source": [
    "reviews_df.show()"
   ]
  },
  {
   "cell_type": "code",
   "execution_count": 28,
   "metadata": {},
   "outputs": [
    {
     "data": {
      "text/html": [
       "<style scoped>\n",
       "  .ansiout {\n",
       "    display: block;\n",
       "    unicode-bidi: embed;\n",
       "    white-space: pre-wrap;\n",
       "    word-wrap: break-word;\n",
       "    word-break: break-all;\n",
       "    font-family: \"Source Code Pro\", \"Menlo\", monospace;;\n",
       "    font-size: 13px;\n",
       "    color: #555;\n",
       "    margin-left: 4px;\n",
       "    line-height: 19px;\n",
       "  }\n",
       "</style>\n",
       "<div class=\"ansiout\"></div>"
      ]
     },
     "metadata": {},
     "output_type": "display_data"
    }
   ],
   "source": [
    "def show(df, n=5):\n",
    "    return df.limit(n).toPandas()"
   ]
  },
  {
   "cell_type": "code",
   "execution_count": 29,
   "metadata": {},
   "outputs": [
    {
     "data": {
      "text/html": [
       "<div>\n",
       "<style scoped>\n",
       "    .dataframe tbody tr th:only-of-type {\n",
       "        vertical-align: middle;\n",
       "    }\n",
       "\n",
       "    .dataframe tbody tr th {\n",
       "        vertical-align: top;\n",
       "    }\n",
       "\n",
       "    .dataframe thead th {\n",
       "        text-align: right;\n",
       "    }\n",
       "</style>\n",
       "<table border=\"1\" class=\"dataframe\">\n",
       "  <thead>\n",
       "    <tr style=\"text-align: right;\">\n",
       "      <th></th>\n",
       "      <th>asin</th>\n",
       "      <th>overall</th>\n",
       "    </tr>\n",
       "  </thead>\n",
       "  <tbody>\n",
       "    <tr>\n",
       "      <th>0</th>\n",
       "      <td>0439893577</td>\n",
       "      <td>5.0</td>\n",
       "    </tr>\n",
       "    <tr>\n",
       "      <th>1</th>\n",
       "      <td>0439893577</td>\n",
       "      <td>4.0</td>\n",
       "    </tr>\n",
       "    <tr>\n",
       "      <th>2</th>\n",
       "      <td>0439893577</td>\n",
       "      <td>5.0</td>\n",
       "    </tr>\n",
       "    <tr>\n",
       "      <th>3</th>\n",
       "      <td>0439893577</td>\n",
       "      <td>5.0</td>\n",
       "    </tr>\n",
       "    <tr>\n",
       "      <th>4</th>\n",
       "      <td>0439893577</td>\n",
       "      <td>4.0</td>\n",
       "    </tr>\n",
       "  </tbody>\n",
       "</table>\n",
       "</div>"
      ]
     },
     "metadata": {},
     "output_type": "display_data"
    }
   ],
   "source": [
    "show(reviews_df)"
   ]
  },
  {
   "cell_type": "code",
   "execution_count": 30,
   "metadata": {},
   "outputs": [
    {
     "data": {
      "text/html": [
       "<style scoped>\n",
       "  .ansiout {\n",
       "    display: block;\n",
       "    unicode-bidi: embed;\n",
       "    white-space: pre-wrap;\n",
       "    word-wrap: break-word;\n",
       "    word-break: break-all;\n",
       "    font-family: \"Source Code Pro\", \"Menlo\", monospace;;\n",
       "    font-size: 13px;\n",
       "    color: #555;\n",
       "    margin-left: 4px;\n",
       "    line-height: 19px;\n",
       "  }\n",
       "</style>\n",
       "<div class=\"ansiout\">Out[20]: 167597</div>"
      ]
     },
     "metadata": {},
     "output_type": "display_data"
    }
   ],
   "source": [
    "reviews_df.count()"
   ]
  },
  {
   "cell_type": "code",
   "execution_count": 31,
   "metadata": {},
   "outputs": [
    {
     "data": {
      "text/html": [
       "<style scoped>\n",
       "  .ansiout {\n",
       "    display: block;\n",
       "    unicode-bidi: embed;\n",
       "    white-space: pre-wrap;\n",
       "    word-wrap: break-word;\n",
       "    word-break: break-all;\n",
       "    font-family: \"Source Code Pro\", \"Menlo\", monospace;;\n",
       "    font-size: 13px;\n",
       "    color: #555;\n",
       "    margin-left: 4px;\n",
       "    line-height: 19px;\n",
       "  }\n",
       "</style>\n",
       "<div class=\"ansiout\"></div>"
      ]
     },
     "metadata": {},
     "output_type": "display_data"
    }
   ],
   "source": [
    "sorted_review_df = reviews_df.sort('overall')"
   ]
  },
  {
   "cell_type": "code",
   "execution_count": 32,
   "metadata": {},
   "outputs": [
    {
     "data": {
      "text/html": [
       "<div>\n",
       "<style scoped>\n",
       "    .dataframe tbody tr th:only-of-type {\n",
       "        vertical-align: middle;\n",
       "    }\n",
       "\n",
       "    .dataframe tbody tr th {\n",
       "        vertical-align: top;\n",
       "    }\n",
       "\n",
       "    .dataframe thead th {\n",
       "        text-align: right;\n",
       "    }\n",
       "</style>\n",
       "<table border=\"1\" class=\"dataframe\">\n",
       "  <thead>\n",
       "    <tr style=\"text-align: right;\">\n",
       "      <th></th>\n",
       "      <th>asin</th>\n",
       "      <th>overall</th>\n",
       "    </tr>\n",
       "  </thead>\n",
       "  <tbody>\n",
       "    <tr>\n",
       "      <th>0</th>\n",
       "      <td>0786955708</td>\n",
       "      <td>1.0</td>\n",
       "    </tr>\n",
       "    <tr>\n",
       "      <th>1</th>\n",
       "      <td>0976990709</td>\n",
       "      <td>1.0</td>\n",
       "    </tr>\n",
       "    <tr>\n",
       "      <th>2</th>\n",
       "      <td>0963679600</td>\n",
       "      <td>1.0</td>\n",
       "    </tr>\n",
       "    <tr>\n",
       "      <th>3</th>\n",
       "      <td>0786955708</td>\n",
       "      <td>1.0</td>\n",
       "    </tr>\n",
       "    <tr>\n",
       "      <th>4</th>\n",
       "      <td>0974665207</td>\n",
       "      <td>1.0</td>\n",
       "    </tr>\n",
       "  </tbody>\n",
       "</table>\n",
       "</div>"
      ]
     },
     "metadata": {},
     "output_type": "display_data"
    }
   ],
   "source": [
    "show(sorted_review_df)"
   ]
  },
  {
   "cell_type": "code",
   "execution_count": 33,
   "metadata": {},
   "outputs": [
    {
     "data": {
      "text/html": [
       "<style scoped>\n",
       "  .ansiout {\n",
       "    display: block;\n",
       "    unicode-bidi: embed;\n",
       "    white-space: pre-wrap;\n",
       "    word-wrap: break-word;\n",
       "    word-break: break-all;\n",
       "    font-family: \"Source Code Pro\", \"Menlo\", monospace;;\n",
       "    font-size: 13px;\n",
       "    color: #555;\n",
       "    margin-left: 4px;\n",
       "    line-height: 19px;\n",
       "  }\n",
       "</style>\n",
       "<div class=\"ansiout\"></div>"
      ]
     },
     "metadata": {},
     "output_type": "display_data"
    }
   ],
   "source": [
    "import pyspark.sql.functions as F"
   ]
  },
  {
   "cell_type": "code",
   "execution_count": 34,
   "metadata": {},
   "outputs": [
    {
     "data": {
      "text/html": [
       "<style scoped>\n",
       "  .ansiout {\n",
       "    display: block;\n",
       "    unicode-bidi: embed;\n",
       "    white-space: pre-wrap;\n",
       "    word-wrap: break-word;\n",
       "    word-break: break-all;\n",
       "    font-family: \"Source Code Pro\", \"Menlo\", monospace;;\n",
       "    font-size: 13px;\n",
       "    color: #555;\n",
       "    margin-left: 4px;\n",
       "    line-height: 19px;\n",
       "  }\n",
       "</style>\n",
       "<div class=\"ansiout\"></div>"
      ]
     },
     "metadata": {},
     "output_type": "display_data"
    }
   ],
   "source": [
    "counts = reviews_df.agg(F.countDistinct('overall'))"
   ]
  },
  {
   "cell_type": "code",
   "execution_count": 35,
   "metadata": {},
   "outputs": [
    {
     "data": {
      "text/html": [
       "<style scoped>\n",
       "  .ansiout {\n",
       "    display: block;\n",
       "    unicode-bidi: embed;\n",
       "    white-space: pre-wrap;\n",
       "    word-wrap: break-word;\n",
       "    word-break: break-all;\n",
       "    font-family: \"Source Code Pro\", \"Menlo\", monospace;;\n",
       "    font-size: 13px;\n",
       "    color: #555;\n",
       "    margin-left: 4px;\n",
       "    line-height: 19px;\n",
       "  }\n",
       "</style>\n",
       "<div class=\"ansiout\">+-----------------------+\n",
       "count(DISTINCT overall)|\n",
       "+-----------------------+\n",
       "                      5|\n",
       "+-----------------------+\n",
       "\n",
       "</div>"
      ]
     },
     "metadata": {},
     "output_type": "display_data"
    }
   ],
   "source": [
    "counts.show()"
   ]
  },
  {
   "cell_type": "code",
   "execution_count": 36,
   "metadata": {},
   "outputs": [
    {
     "data": {
      "text/html": [
       "<style scoped>\n",
       "  .ansiout {\n",
       "    display: block;\n",
       "    unicode-bidi: embed;\n",
       "    white-space: pre-wrap;\n",
       "    word-wrap: break-word;\n",
       "    word-break: break-all;\n",
       "    font-family: \"Source Code Pro\", \"Menlo\", monospace;;\n",
       "    font-size: 13px;\n",
       "    color: #555;\n",
       "    margin-left: 4px;\n",
       "    line-height: 19px;\n",
       "  }\n",
       "</style>\n",
       "<div class=\"ansiout\"></div>"
      ]
     },
     "metadata": {},
     "output_type": "display_data"
    }
   ],
   "source": [
    "query = \"\"\"\n",
    "SELECT overall, COUNT(*)\n",
    "FROM reviews\n",
    "GROUP BY overall\n",
    "ORDER BY overall\n",
    "\"\"\""
   ]
  },
  {
   "cell_type": "code",
   "execution_count": 37,
   "metadata": {},
   "outputs": [
    {
     "data": {
      "text/html": [
       "<style scoped>\n",
       "  .ansiout {\n",
       "    display: block;\n",
       "    unicode-bidi: embed;\n",
       "    white-space: pre-wrap;\n",
       "    word-wrap: break-word;\n",
       "    word-break: break-all;\n",
       "    font-family: \"Source Code Pro\", \"Menlo\", monospace;;\n",
       "    font-size: 13px;\n",
       "    color: #555;\n",
       "    margin-left: 4px;\n",
       "    line-height: 19px;\n",
       "  }\n",
       "</style>\n",
       "<div class=\"ansiout\"></div>"
      ]
     },
     "metadata": {},
     "output_type": "display_data"
    }
   ],
   "source": [
    "reviews_df.createOrReplaceTempView('reviews')"
   ]
  },
  {
   "cell_type": "code",
   "execution_count": 38,
   "metadata": {},
   "outputs": [
    {
     "data": {
      "text/html": [
       "<style scoped>\n",
       "  .ansiout {\n",
       "    display: block;\n",
       "    unicode-bidi: embed;\n",
       "    white-space: pre-wrap;\n",
       "    word-wrap: break-word;\n",
       "    word-break: break-all;\n",
       "    font-family: \"Source Code Pro\", \"Menlo\", monospace;;\n",
       "    font-size: 13px;\n",
       "    color: #555;\n",
       "    margin-left: 4px;\n",
       "    line-height: 19px;\n",
       "  }\n",
       "</style>\n",
       "<div class=\"ansiout\"></div>"
      ]
     },
     "metadata": {},
     "output_type": "display_data"
    }
   ],
   "source": [
    "output = spark.sql(query)"
   ]
  },
  {
   "cell_type": "code",
   "execution_count": 39,
   "metadata": {},
   "outputs": [
    {
     "data": {
      "text/html": [
       "<div>\n",
       "<style scoped>\n",
       "    .dataframe tbody tr th:only-of-type {\n",
       "        vertical-align: middle;\n",
       "    }\n",
       "\n",
       "    .dataframe tbody tr th {\n",
       "        vertical-align: top;\n",
       "    }\n",
       "\n",
       "    .dataframe thead th {\n",
       "        text-align: right;\n",
       "    }\n",
       "</style>\n",
       "<table border=\"1\" class=\"dataframe\">\n",
       "  <thead>\n",
       "    <tr style=\"text-align: right;\">\n",
       "      <th></th>\n",
       "      <th>overall</th>\n",
       "      <th>count(1)</th>\n",
       "    </tr>\n",
       "  </thead>\n",
       "  <tbody>\n",
       "    <tr>\n",
       "      <th>0</th>\n",
       "      <td>1.0</td>\n",
       "      <td>4707</td>\n",
       "    </tr>\n",
       "    <tr>\n",
       "      <th>1</th>\n",
       "      <td>2.0</td>\n",
       "      <td>6298</td>\n",
       "    </tr>\n",
       "    <tr>\n",
       "      <th>2</th>\n",
       "      <td>3.0</td>\n",
       "      <td>16357</td>\n",
       "    </tr>\n",
       "    <tr>\n",
       "      <th>3</th>\n",
       "      <td>4.0</td>\n",
       "      <td>37445</td>\n",
       "    </tr>\n",
       "    <tr>\n",
       "      <th>4</th>\n",
       "      <td>5.0</td>\n",
       "      <td>102790</td>\n",
       "    </tr>\n",
       "  </tbody>\n",
       "</table>\n",
       "</div>"
      ]
     },
     "metadata": {},
     "output_type": "display_data"
    }
   ],
   "source": [
    "show(output)"
   ]
  },
  {
   "cell_type": "code",
   "execution_count": 40,
   "metadata": {},
   "outputs": [
    {
     "data": {
      "text/html": [
       "<style scoped>\n",
       "  .ansiout {\n",
       "    display: block;\n",
       "    unicode-bidi: embed;\n",
       "    white-space: pre-wrap;\n",
       "    word-wrap: break-word;\n",
       "    word-break: break-all;\n",
       "    font-family: \"Source Code Pro\", \"Menlo\", monospace;;\n",
       "    font-size: 13px;\n",
       "    color: #555;\n",
       "    margin-left: 4px;\n",
       "    line-height: 19px;\n",
       "  }\n",
       "</style>\n",
       "<div class=\"ansiout\">Out[30]: [Row(overall=1.0, count(1)=4707),\n",
       " Row(overall=2.0, count(1)=6298),\n",
       " Row(overall=3.0, count(1)=16357),\n",
       " Row(overall=4.0, count(1)=37445),\n",
       " Row(overall=5.0, count(1)=102790)]</div>"
      ]
     },
     "metadata": {},
     "output_type": "display_data"
    }
   ],
   "source": [
    "output.collect()"
   ]
  },
  {
   "cell_type": "code",
   "execution_count": 41,
   "metadata": {},
   "outputs": [
    {
     "data": {
      "text/html": [
       "<style scoped>\n",
       "  .ansiout {\n",
       "    display: block;\n",
       "    unicode-bidi: embed;\n",
       "    white-space: pre-wrap;\n",
       "    word-wrap: break-word;\n",
       "    word-break: break-all;\n",
       "    font-family: \"Source Code Pro\", \"Menlo\", monospace;;\n",
       "    font-size: 13px;\n",
       "    color: #555;\n",
       "    margin-left: 4px;\n",
       "    line-height: 19px;\n",
       "  }\n",
       "</style>\n",
       "<div class=\"ansiout\">Out[31]: 0</div>"
      ]
     },
     "metadata": {},
     "output_type": "display_data"
    }
   ],
   "source": [
    "reviews_df.count() - sum(output.collect()[i][1] for i in range(5))"
   ]
  },
  {
   "cell_type": "code",
   "execution_count": 42,
   "metadata": {},
   "outputs": [
    {
     "data": {
      "text/html": [
       "<style scoped>\n",
       "  .ansiout {\n",
       "    display: block;\n",
       "    unicode-bidi: embed;\n",
       "    white-space: pre-wrap;\n",
       "    word-wrap: break-word;\n",
       "    word-break: break-all;\n",
       "    font-family: \"Source Code Pro\", \"Menlo\", monospace;;\n",
       "    font-size: 13px;\n",
       "    color: #555;\n",
       "    margin-left: 4px;\n",
       "    line-height: 19px;\n",
       "  }\n",
       "</style>\n",
       "<div class=\"ansiout\">Out[32]: pyspark.sql.dataframe.DataFrame</div>"
      ]
     },
     "metadata": {},
     "output_type": "display_data"
    }
   ],
   "source": [
    "type(reviews_df)"
   ]
  },
  {
   "cell_type": "markdown",
   "metadata": {},
   "source": [
    "Convert to RDD!"
   ]
  },
  {
   "cell_type": "code",
   "execution_count": 44,
   "metadata": {},
   "outputs": [
    {
     "data": {
      "text/html": [
       "<style scoped>\n",
       "  .ansiout {\n",
       "    display: block;\n",
       "    unicode-bidi: embed;\n",
       "    white-space: pre-wrap;\n",
       "    word-wrap: break-word;\n",
       "    word-break: break-all;\n",
       "    font-family: \"Source Code Pro\", \"Menlo\", monospace;;\n",
       "    font-size: 13px;\n",
       "    color: #555;\n",
       "    margin-left: 4px;\n",
       "    line-height: 19px;\n",
       "  }\n",
       "</style>\n",
       "<div class=\"ansiout\">Out[33]: MapPartitionsRDD[2224] at javaToPython at NativeMethodAccessorImpl.java:0</div>"
      ]
     },
     "metadata": {},
     "output_type": "display_data"
    }
   ],
   "source": [
    "reviews_df.rdd"
   ]
  },
  {
   "cell_type": "code",
   "execution_count": 45,
   "metadata": {},
   "outputs": [
    {
     "data": {
      "text/html": [
       "<style scoped>\n",
       "  .ansiout {\n",
       "    display: block;\n",
       "    unicode-bidi: embed;\n",
       "    white-space: pre-wrap;\n",
       "    word-wrap: break-word;\n",
       "    word-break: break-all;\n",
       "    font-family: \"Source Code Pro\", \"Menlo\", monospace;;\n",
       "    font-size: 13px;\n",
       "    color: #555;\n",
       "    margin-left: 4px;\n",
       "    line-height: 19px;\n",
       "  }\n",
       "</style>\n",
       "<div class=\"ansiout\">Out[34]: pyspark.rdd.RDD</div>"
      ]
     },
     "metadata": {},
     "output_type": "display_data"
    }
   ],
   "source": [
    "type(reviews_df.rdd)"
   ]
  },
  {
   "cell_type": "markdown",
   "metadata": {},
   "source": [
    "### Count the words in the first row"
   ]
  },
  {
   "cell_type": "code",
   "execution_count": 47,
   "metadata": {},
   "outputs": [
    {
     "data": {
      "text/html": [
       "<style scoped>\n",
       "  .ansiout {\n",
       "    display: block;\n",
       "    unicode-bidi: embed;\n",
       "    white-space: pre-wrap;\n",
       "    word-wrap: break-word;\n",
       "    word-break: break-all;\n",
       "    font-family: \"Source Code Pro\", \"Menlo\", monospace;;\n",
       "    font-size: 13px;\n",
       "    color: #555;\n",
       "    margin-left: 4px;\n",
       "    line-height: 19px;\n",
       "  }\n",
       "</style>\n",
       "<div class=\"ansiout\"></div>"
      ]
     },
     "metadata": {},
     "output_type": "display_data"
    }
   ],
   "source": [
    "row_one = df.first()"
   ]
  },
  {
   "cell_type": "code",
   "execution_count": 48,
   "metadata": {},
   "outputs": [
    {
     "data": {
      "text/html": [
       "<style scoped>\n",
       "  .ansiout {\n",
       "    display: block;\n",
       "    unicode-bidi: embed;\n",
       "    white-space: pre-wrap;\n",
       "    word-wrap: break-word;\n",
       "    word-break: break-all;\n",
       "    font-family: \"Source Code Pro\", \"Menlo\", monospace;;\n",
       "    font-size: 13px;\n",
       "    color: #555;\n",
       "    margin-left: 4px;\n",
       "    line-height: 19px;\n",
       "  }\n",
       "</style>\n",
       "<div class=\"ansiout\">Out[36]: Row(asin=&#39;0439893577&#39;, helpful=[0, 0], overall=5.0, reviewText=&#39;I like the item pricing. My granddaughter wanted to mark on it but I wanted it just for the letters.&#39;, reviewTime=&#39;01 29, 2014&#39;, reviewerID=&#39;A1VXOAVRGKGEAK&#39;, reviewerName=&#39;Angie&#39;, summary=&#39;Magnetic board&#39;, unixReviewTime=1390953600)</div>"
      ]
     },
     "metadata": {},
     "output_type": "display_data"
    }
   ],
   "source": [
    "row_one"
   ]
  },
  {
   "cell_type": "code",
   "execution_count": 49,
   "metadata": {},
   "outputs": [
    {
     "data": {
      "text/html": [
       "<style scoped>\n",
       "  .ansiout {\n",
       "    display: block;\n",
       "    unicode-bidi: embed;\n",
       "    white-space: pre-wrap;\n",
       "    word-wrap: break-word;\n",
       "    word-break: break-all;\n",
       "    font-family: \"Source Code Pro\", \"Menlo\", monospace;;\n",
       "    font-size: 13px;\n",
       "    color: #555;\n",
       "    margin-left: 4px;\n",
       "    line-height: 19px;\n",
       "  }\n",
       "</style>\n",
       "<div class=\"ansiout\"></div>"
      ]
     },
     "metadata": {},
     "output_type": "display_data"
    }
   ],
   "source": [
    "def word_count(text):\n",
    "    return len(text.split())"
   ]
  },
  {
   "cell_type": "code",
   "execution_count": 50,
   "metadata": {},
   "outputs": [
    {
     "data": {
      "text/html": [
       "<style scoped>\n",
       "  .ansiout {\n",
       "    display: block;\n",
       "    unicode-bidi: embed;\n",
       "    white-space: pre-wrap;\n",
       "    word-wrap: break-word;\n",
       "    word-break: break-all;\n",
       "    font-family: \"Source Code Pro\", \"Menlo\", monospace;;\n",
       "    font-size: 13px;\n",
       "    color: #555;\n",
       "    margin-left: 4px;\n",
       "    line-height: 19px;\n",
       "  }\n",
       "</style>\n",
       "<div class=\"ansiout\">Out[38]: 20</div>"
      ]
     },
     "metadata": {},
     "output_type": "display_data"
    }
   ],
   "source": [
    "word_count(row_one['reviewText'])"
   ]
  },
  {
   "cell_type": "code",
   "execution_count": 51,
   "metadata": {},
   "outputs": [
    {
     "data": {
      "text/html": [
       "<style scoped>\n",
       "  .ansiout {\n",
       "    display: block;\n",
       "    unicode-bidi: embed;\n",
       "    white-space: pre-wrap;\n",
       "    word-wrap: break-word;\n",
       "    word-break: break-all;\n",
       "    font-family: \"Source Code Pro\", \"Menlo\", monospace;;\n",
       "    font-size: 13px;\n",
       "    color: #555;\n",
       "    margin-left: 4px;\n",
       "    line-height: 19px;\n",
       "  }\n",
       "</style>\n",
       "<div class=\"ansiout\"></div>"
      ]
     },
     "metadata": {},
     "output_type": "display_data"
    }
   ],
   "source": [
    "from pyspark.sql.types import IntegerType\n",
    "\n",
    "#'udf' is for User Defined Function!\n",
    "\n",
    "word_count_udf = F.udf(word_count, returnType=IntegerType())"
   ]
  },
  {
   "cell_type": "code",
   "execution_count": 52,
   "metadata": {},
   "outputs": [
    {
     "data": {
      "text/html": [
       "<style scoped>\n",
       "  .ansiout {\n",
       "    display: block;\n",
       "    unicode-bidi: embed;\n",
       "    white-space: pre-wrap;\n",
       "    word-wrap: break-word;\n",
       "    word-break: break-all;\n",
       "    font-family: \"Source Code Pro\", \"Menlo\", monospace;;\n",
       "    font-size: 13px;\n",
       "    color: #555;\n",
       "    margin-left: 4px;\n",
       "    line-height: 19px;\n",
       "  }\n",
       "</style>\n",
       "<div class=\"ansiout\"></div>"
      ]
     },
     "metadata": {},
     "output_type": "display_data"
    }
   ],
   "source": [
    "review_text_col = df['reviewText']"
   ]
  },
  {
   "cell_type": "code",
   "execution_count": 53,
   "metadata": {},
   "outputs": [
    {
     "data": {
      "text/html": [
       "<style scoped>\n",
       "  .ansiout {\n",
       "    display: block;\n",
       "    unicode-bidi: embed;\n",
       "    white-space: pre-wrap;\n",
       "    word-wrap: break-word;\n",
       "    word-break: break-all;\n",
       "    font-family: \"Source Code Pro\", \"Menlo\", monospace;;\n",
       "    font-size: 13px;\n",
       "    color: #555;\n",
       "    margin-left: 4px;\n",
       "    line-height: 19px;\n",
       "  }\n",
       "</style>\n",
       "<div class=\"ansiout\"></div>"
      ]
     },
     "metadata": {},
     "output_type": "display_data"
    }
   ],
   "source": [
    "counts_df = df.withColumn('wordCount', word_count_udf(review_text_col))"
   ]
  },
  {
   "cell_type": "code",
   "execution_count": 54,
   "metadata": {
    "scrolled": true
   },
   "outputs": [
    {
     "data": {
      "text/html": [
       "<div>\n",
       "<style scoped>\n",
       "    .dataframe tbody tr th:only-of-type {\n",
       "        vertical-align: middle;\n",
       "    }\n",
       "\n",
       "    .dataframe tbody tr th {\n",
       "        vertical-align: top;\n",
       "    }\n",
       "\n",
       "    .dataframe thead th {\n",
       "        text-align: right;\n",
       "    }\n",
       "</style>\n",
       "<table border=\"1\" class=\"dataframe\">\n",
       "  <thead>\n",
       "    <tr style=\"text-align: right;\">\n",
       "      <th></th>\n",
       "      <th>0</th>\n",
       "      <th>1</th>\n",
       "      <th>2</th>\n",
       "      <th>3</th>\n",
       "      <th>4</th>\n",
       "    </tr>\n",
       "  </thead>\n",
       "  <tbody>\n",
       "    <tr>\n",
       "      <th>asin</th>\n",
       "      <td>0439893577</td>\n",
       "      <td>0439893577</td>\n",
       "      <td>0439893577</td>\n",
       "      <td>0439893577</td>\n",
       "      <td>0439893577</td>\n",
       "    </tr>\n",
       "    <tr>\n",
       "      <th>helpful</th>\n",
       "      <td>[0, 0]</td>\n",
       "      <td>[1, 1]</td>\n",
       "      <td>[1, 1]</td>\n",
       "      <td>[0, 0]</td>\n",
       "      <td>[1, 1]</td>\n",
       "    </tr>\n",
       "    <tr>\n",
       "      <th>overall</th>\n",
       "      <td>5</td>\n",
       "      <td>4</td>\n",
       "      <td>5</td>\n",
       "      <td>5</td>\n",
       "      <td>4</td>\n",
       "    </tr>\n",
       "    <tr>\n",
       "      <th>reviewText</th>\n",
       "      <td>I like the item pricing. My granddaughter want...</td>\n",
       "      <td>Love the magnet easel... great for moving to d...</td>\n",
       "      <td>Both sides are magnetic.  A real plus when you...</td>\n",
       "      <td>Bought one a few years ago for my daughter and...</td>\n",
       "      <td>I have a stainless steel refrigerator therefor...</td>\n",
       "    </tr>\n",
       "    <tr>\n",
       "      <th>reviewTime</th>\n",
       "      <td>01 29, 2014</td>\n",
       "      <td>03 28, 2014</td>\n",
       "      <td>01 28, 2013</td>\n",
       "      <td>02 8, 2014</td>\n",
       "      <td>05 5, 2014</td>\n",
       "    </tr>\n",
       "    <tr>\n",
       "      <th>reviewerID</th>\n",
       "      <td>A1VXOAVRGKGEAK</td>\n",
       "      <td>A8R62G708TSCM</td>\n",
       "      <td>A21KH420DK0ICA</td>\n",
       "      <td>AR29QK6HPFYZ4</td>\n",
       "      <td>ACCH8EOML6FN5</td>\n",
       "    </tr>\n",
       "    <tr>\n",
       "      <th>reviewerName</th>\n",
       "      <td>Angie</td>\n",
       "      <td>Candace</td>\n",
       "      <td>capemaychristy</td>\n",
       "      <td>dcrm</td>\n",
       "      <td>DoyZ</td>\n",
       "    </tr>\n",
       "    <tr>\n",
       "      <th>summary</th>\n",
       "      <td>Magnetic board</td>\n",
       "      <td>it works pretty good for moving to different a...</td>\n",
       "      <td>love this!</td>\n",
       "      <td>Daughters love it</td>\n",
       "      <td>Great to have so he can play with his alphabet...</td>\n",
       "    </tr>\n",
       "    <tr>\n",
       "      <th>unixReviewTime</th>\n",
       "      <td>1390953600</td>\n",
       "      <td>1395964800</td>\n",
       "      <td>1359331200</td>\n",
       "      <td>1391817600</td>\n",
       "      <td>1399248000</td>\n",
       "    </tr>\n",
       "    <tr>\n",
       "      <th>wordCount</th>\n",
       "      <td>20</td>\n",
       "      <td>22</td>\n",
       "      <td>76</td>\n",
       "      <td>31</td>\n",
       "      <td>47</td>\n",
       "    </tr>\n",
       "  </tbody>\n",
       "</table>\n",
       "</div>"
      ]
     },
     "metadata": {},
     "output_type": "display_data"
    }
   ],
   "source": [
    "# Remember that we set the default number of lines to show at 5.\n",
    "\n",
    "show(counts_df).T"
   ]
  },
  {
   "cell_type": "code",
   "execution_count": 55,
   "metadata": {},
   "outputs": [
    {
     "data": {
      "text/html": [
       "<style scoped>\n",
       "  .ansiout {\n",
       "    display: block;\n",
       "    unicode-bidi: embed;\n",
       "    white-space: pre-wrap;\n",
       "    word-wrap: break-word;\n",
       "    word-break: break-all;\n",
       "    font-family: \"Source Code Pro\", \"Menlo\", monospace;;\n",
       "    font-size: 13px;\n",
       "    color: #555;\n",
       "    margin-left: 4px;\n",
       "    line-height: 19px;\n",
       "  }\n",
       "</style>\n",
       "<div class=\"ansiout\">Out[43]: &lt;function __main__.word_count(text)&gt;</div>"
      ]
     },
     "metadata": {},
     "output_type": "display_data"
    }
   ],
   "source": [
    "from pyspark.sql.types import IntegerType\n",
    "word_count_udf = F.udf(word_count, IntegerType())\n",
    "\n",
    "# Registering our word_count() function so that we\n",
    "# can use it with SQL! See documentation here:\n",
    "# https://jaceklaskowski.gitbooks.io/mastering-spark-sql/spark-sql-UDFRegistration.html\n",
    "\n",
    "df.createOrReplaceTempView('reviews')\n",
    "spark.udf.register('word_count', word_count_udf)"
   ]
  },
  {
   "cell_type": "code",
   "execution_count": 56,
   "metadata": {},
   "outputs": [
    {
     "data": {
      "text/html": [
       "<style scoped>\n",
       "  .ansiout {\n",
       "    display: block;\n",
       "    unicode-bidi: embed;\n",
       "    white-space: pre-wrap;\n",
       "    word-wrap: break-word;\n",
       "    word-break: break-all;\n",
       "    font-family: \"Source Code Pro\", \"Menlo\", monospace;;\n",
       "    font-size: 13px;\n",
       "    color: #555;\n",
       "    margin-left: 4px;\n",
       "    line-height: 19px;\n",
       "  }\n",
       "</style>\n",
       "<div class=\"ansiout\"></div>"
      ]
     },
     "metadata": {},
     "output_type": "display_data"
    }
   ],
   "source": [
    "query = \"\"\"\n",
    "SELECT asin, overall, reviewText, word_count(reviewText) AS wordCount\n",
    "FROM reviews\n",
    "\"\"\""
   ]
  },
  {
   "cell_type": "code",
   "execution_count": 57,
   "metadata": {},
   "outputs": [
    {
     "data": {
      "text/html": [
       "<style scoped>\n",
       "  .ansiout {\n",
       "    display: block;\n",
       "    unicode-bidi: embed;\n",
       "    white-space: pre-wrap;\n",
       "    word-wrap: break-word;\n",
       "    word-break: break-all;\n",
       "    font-family: \"Source Code Pro\", \"Menlo\", monospace;;\n",
       "    font-size: 13px;\n",
       "    color: #555;\n",
       "    margin-left: 4px;\n",
       "    line-height: 19px;\n",
       "  }\n",
       "</style>\n",
       "<div class=\"ansiout\"></div>"
      ]
     },
     "metadata": {},
     "output_type": "display_data"
    }
   ],
   "source": [
    "counts_df = spark.sql(query)"
   ]
  },
  {
   "cell_type": "code",
   "execution_count": 58,
   "metadata": {},
   "outputs": [
    {
     "data": {
      "text/html": [
       "<div>\n",
       "<style scoped>\n",
       "    .dataframe tbody tr th:only-of-type {\n",
       "        vertical-align: middle;\n",
       "    }\n",
       "\n",
       "    .dataframe tbody tr th {\n",
       "        vertical-align: top;\n",
       "    }\n",
       "\n",
       "    .dataframe thead th {\n",
       "        text-align: right;\n",
       "    }\n",
       "</style>\n",
       "<table border=\"1\" class=\"dataframe\">\n",
       "  <thead>\n",
       "    <tr style=\"text-align: right;\">\n",
       "      <th></th>\n",
       "      <th>asin</th>\n",
       "      <th>overall</th>\n",
       "      <th>reviewText</th>\n",
       "      <th>wordCount</th>\n",
       "    </tr>\n",
       "  </thead>\n",
       "  <tbody>\n",
       "    <tr>\n",
       "      <th>0</th>\n",
       "      <td>0439893577</td>\n",
       "      <td>5.0</td>\n",
       "      <td>I like the item pricing. My granddaughter want...</td>\n",
       "      <td>20</td>\n",
       "    </tr>\n",
       "    <tr>\n",
       "      <th>1</th>\n",
       "      <td>0439893577</td>\n",
       "      <td>4.0</td>\n",
       "      <td>Love the magnet easel... great for moving to d...</td>\n",
       "      <td>22</td>\n",
       "    </tr>\n",
       "    <tr>\n",
       "      <th>2</th>\n",
       "      <td>0439893577</td>\n",
       "      <td>5.0</td>\n",
       "      <td>Both sides are magnetic.  A real plus when you...</td>\n",
       "      <td>76</td>\n",
       "    </tr>\n",
       "    <tr>\n",
       "      <th>3</th>\n",
       "      <td>0439893577</td>\n",
       "      <td>5.0</td>\n",
       "      <td>Bought one a few years ago for my daughter and...</td>\n",
       "      <td>31</td>\n",
       "    </tr>\n",
       "    <tr>\n",
       "      <th>4</th>\n",
       "      <td>0439893577</td>\n",
       "      <td>4.0</td>\n",
       "      <td>I have a stainless steel refrigerator therefor...</td>\n",
       "      <td>47</td>\n",
       "    </tr>\n",
       "  </tbody>\n",
       "</table>\n",
       "</div>"
      ]
     },
     "metadata": {},
     "output_type": "display_data"
    }
   ],
   "source": [
    "show(counts_df)"
   ]
  },
  {
   "cell_type": "code",
   "execution_count": 59,
   "metadata": {},
   "outputs": [
    {
     "data": {
      "text/html": [
       "<style scoped>\n",
       "  .ansiout {\n",
       "    display: block;\n",
       "    unicode-bidi: embed;\n",
       "    white-space: pre-wrap;\n",
       "    word-wrap: break-word;\n",
       "    word-break: break-all;\n",
       "    font-family: \"Source Code Pro\", \"Menlo\", monospace;;\n",
       "    font-size: 13px;\n",
       "    color: #555;\n",
       "    margin-left: 4px;\n",
       "    line-height: 19px;\n",
       "  }\n",
       "</style>\n",
       "<div class=\"ansiout\"></div>"
      ]
     },
     "metadata": {},
     "output_type": "display_data"
    }
   ],
   "source": [
    "def count_all_the_things(text):\n",
    "    return [len(text), len(text.split())]"
   ]
  },
  {
   "cell_type": "code",
   "execution_count": 60,
   "metadata": {},
   "outputs": [
    {
     "data": {
      "text/html": [
       "<style scoped>\n",
       "  .ansiout {\n",
       "    display: block;\n",
       "    unicode-bidi: embed;\n",
       "    white-space: pre-wrap;\n",
       "    word-wrap: break-word;\n",
       "    word-break: break-all;\n",
       "    font-family: \"Source Code Pro\", \"Menlo\", monospace;;\n",
       "    font-size: 13px;\n",
       "    color: #555;\n",
       "    margin-left: 4px;\n",
       "    line-height: 19px;\n",
       "  }\n",
       "</style>\n",
       "<div class=\"ansiout\"></div>"
      ]
     },
     "metadata": {},
     "output_type": "display_data"
    }
   ],
   "source": [
    "from pyspark.sql.types import ArrayType, IntegerType\n",
    "count_udf = F.udf(count_all_the_things, returnType=ArrayType(IntegerType()))"
   ]
  },
  {
   "cell_type": "code",
   "execution_count": 61,
   "metadata": {},
   "outputs": [
    {
     "data": {
      "text/html": [
       "<style scoped>\n",
       "  .ansiout {\n",
       "    display: block;\n",
       "    unicode-bidi: embed;\n",
       "    white-space: pre-wrap;\n",
       "    word-wrap: break-word;\n",
       "    word-break: break-all;\n",
       "    font-family: \"Source Code Pro\", \"Menlo\", monospace;;\n",
       "    font-size: 13px;\n",
       "    color: #555;\n",
       "    margin-left: 4px;\n",
       "    line-height: 19px;\n",
       "  }\n",
       "</style>\n",
       "<div class=\"ansiout\"></div>"
      ]
     },
     "metadata": {},
     "output_type": "display_data"
    }
   ],
   "source": [
    "counts_df = df.withColumn('counts', count_udf(df['reviewText']))"
   ]
  },
  {
   "cell_type": "code",
   "execution_count": 62,
   "metadata": {},
   "outputs": [
    {
     "data": {
      "text/html": [
       "<div>\n",
       "<style scoped>\n",
       "    .dataframe tbody tr th:only-of-type {\n",
       "        vertical-align: middle;\n",
       "    }\n",
       "\n",
       "    .dataframe tbody tr th {\n",
       "        vertical-align: top;\n",
       "    }\n",
       "\n",
       "    .dataframe thead th {\n",
       "        text-align: right;\n",
       "    }\n",
       "</style>\n",
       "<table border=\"1\" class=\"dataframe\">\n",
       "  <thead>\n",
       "    <tr style=\"text-align: right;\">\n",
       "      <th></th>\n",
       "      <th>asin</th>\n",
       "      <th>helpful</th>\n",
       "      <th>overall</th>\n",
       "      <th>reviewText</th>\n",
       "      <th>reviewTime</th>\n",
       "      <th>reviewerID</th>\n",
       "      <th>reviewerName</th>\n",
       "      <th>summary</th>\n",
       "      <th>unixReviewTime</th>\n",
       "      <th>counts</th>\n",
       "    </tr>\n",
       "  </thead>\n",
       "  <tbody>\n",
       "    <tr>\n",
       "      <th>0</th>\n",
       "      <td>0439893577</td>\n",
       "      <td>[0, 0]</td>\n",
       "      <td>5.0</td>\n",
       "      <td>I like the item pricing. My granddaughter want...</td>\n",
       "      <td>01 29, 2014</td>\n",
       "      <td>A1VXOAVRGKGEAK</td>\n",
       "      <td>Angie</td>\n",
       "      <td>Magnetic board</td>\n",
       "      <td>1390953600</td>\n",
       "      <td>[100, 20]</td>\n",
       "    </tr>\n",
       "  </tbody>\n",
       "</table>\n",
       "</div>"
      ]
     },
     "metadata": {},
     "output_type": "display_data"
    }
   ],
   "source": [
    "show(counts_df, 1)"
   ]
  },
  {
   "cell_type": "code",
   "execution_count": 63,
   "metadata": {},
   "outputs": [
    {
     "data": {
      "text/html": [
       "<style scoped>\n",
       "  .ansiout {\n",
       "    display: block;\n",
       "    unicode-bidi: embed;\n",
       "    white-space: pre-wrap;\n",
       "    word-wrap: break-word;\n",
       "    word-break: break-all;\n",
       "    font-family: \"Source Code Pro\", \"Menlo\", monospace;;\n",
       "    font-size: 13px;\n",
       "    color: #555;\n",
       "    margin-left: 4px;\n",
       "    line-height: 19px;\n",
       "  }\n",
       "</style>\n",
       "<div class=\"ansiout\"></div>"
      ]
     },
     "metadata": {},
     "output_type": "display_data"
    }
   ],
   "source": [
    "slim_counts_df = (\n",
    "    df.drop('reviewTime', 'helpful')\n",
    "#       .drop('helpful')\n",
    "      .withColumn('counts', count_udf(df['reviewText']))\n",
    "      .drop('reviewText')\n",
    ")"
   ]
  },
  {
   "cell_type": "code",
   "execution_count": 64,
   "metadata": {},
   "outputs": [
    {
     "data": {
      "text/html": [
       "<div>\n",
       "<style scoped>\n",
       "    .dataframe tbody tr th:only-of-type {\n",
       "        vertical-align: middle;\n",
       "    }\n",
       "\n",
       "    .dataframe tbody tr th {\n",
       "        vertical-align: top;\n",
       "    }\n",
       "\n",
       "    .dataframe thead th {\n",
       "        text-align: right;\n",
       "    }\n",
       "</style>\n",
       "<table border=\"1\" class=\"dataframe\">\n",
       "  <thead>\n",
       "    <tr style=\"text-align: right;\">\n",
       "      <th></th>\n",
       "      <th>asin</th>\n",
       "      <th>overall</th>\n",
       "      <th>reviewerID</th>\n",
       "      <th>reviewerName</th>\n",
       "      <th>summary</th>\n",
       "      <th>unixReviewTime</th>\n",
       "      <th>counts</th>\n",
       "    </tr>\n",
       "  </thead>\n",
       "  <tbody>\n",
       "    <tr>\n",
       "      <th>0</th>\n",
       "      <td>0439893577</td>\n",
       "      <td>5.0</td>\n",
       "      <td>A1VXOAVRGKGEAK</td>\n",
       "      <td>Angie</td>\n",
       "      <td>Magnetic board</td>\n",
       "      <td>1390953600</td>\n",
       "      <td>[100, 20]</td>\n",
       "    </tr>\n",
       "  </tbody>\n",
       "</table>\n",
       "</div>"
      ]
     },
     "metadata": {},
     "output_type": "display_data"
    }
   ],
   "source": [
    "show(slim_counts_df, n=1)"
   ]
  },
  {
   "cell_type": "code",
   "execution_count": 65,
   "metadata": {},
   "outputs": [
    {
     "data": {
      "text/html": [
       "<style scoped>\n",
       "  .ansiout {\n",
       "    display: block;\n",
       "    unicode-bidi: embed;\n",
       "    white-space: pre-wrap;\n",
       "    word-wrap: break-word;\n",
       "    word-break: break-all;\n",
       "    font-family: \"Source Code Pro\", \"Menlo\", monospace;;\n",
       "    font-size: 13px;\n",
       "    color: #555;\n",
       "    margin-left: 4px;\n",
       "    line-height: 19px;\n",
       "  }\n",
       "</style>\n",
       "<div class=\"ansiout\">Out[53]: [Row(reviewerID=&#39;A3R9X003XW0LNR&#39;, avg(overall)=4.36),\n",
       " Row(reviewerID=&#39;A2TZT5AMK1XQTC&#39;, avg(overall)=4.2),\n",
       " Row(reviewerID=&#39;A2UGBQSNS1I37M&#39;, avg(overall)=4.857142857142857),\n",
       " Row(reviewerID=&#39;AUAX1QWUCYKSX&#39;, avg(overall)=4.090909090909091),\n",
       " Row(reviewerID=&#39;A1XU4ZI0NUZ68M&#39;, avg(overall)=3.8333333333333335),\n",
       " Row(reviewerID=&#39;A2OIGPPBTR65MR&#39;, avg(overall)=4.421052631578948),\n",
       " Row(reviewerID=&#39;A2B2OT465SEI15&#39;, avg(overall)=4.833333333333333),\n",
       " Row(reviewerID=&#39;A3RSDKOJ28VU6B&#39;, avg(overall)=5.0),\n",
       " Row(reviewerID=&#39;A8SHD09Z1RI3&#39;, avg(overall)=4.0),\n",
       " Row(reviewerID=&#39;A1919BYRFSG18U&#39;, avg(overall)=4.666666666666667),\n",
       " Row(reviewerID=&#39;A10AKE9TAADHVV&#39;, avg(overall)=4.142857142857143),\n",
       " Row(reviewerID=&#39;A239YR4IQ0QAFY&#39;, avg(overall)=5.0),\n",
       " Row(reviewerID=&#39;A1VLE2SH9J8WYS&#39;, avg(overall)=4.785714285714286),\n",
       " Row(reviewerID=&#39;A24WSD48Z3WUZS&#39;, avg(overall)=4.5),\n",
       " Row(reviewerID=&#39;A17A1KTVI3DG6U&#39;, avg(overall)=3.5714285714285716),\n",
       " Row(reviewerID=&#39;A2GF3I3279PEXO&#39;, avg(overall)=4.714285714285714),\n",
       " Row(reviewerID=&#39;A2IKUVB2PS4QLT&#39;, avg(overall)=5.0),\n",
       " Row(reviewerID=&#39;APVMWJNB77FNP&#39;, avg(overall)=4.2),\n",
       " Row(reviewerID=&#39;A1VHPPBMKS6U1N&#39;, avg(overall)=4.4),\n",
       " Row(reviewerID=&#39;A2P2QMTLWLUQUZ&#39;, avg(overall)=3.75),\n",
       " Row(reviewerID=&#39;A6GMEO3VRY51S&#39;, avg(overall)=4.166666666666667),\n",
       " Row(reviewerID=&#39;A1IJ4Z3204XZ6N&#39;, avg(overall)=4.428571428571429),\n",
       " Row(reviewerID=&#39;A1UQNPIQ52PYSN&#39;, avg(overall)=2.8),\n",
       " Row(reviewerID=&#39;A3SKNXQJ357GEW&#39;, avg(overall)=4.166666666666667),\n",
       " Row(reviewerID=&#39;AJCK6OKNWGIYG&#39;, avg(overall)=5.0),\n",
       " Row(reviewerID=&#39;A12WD8M1UUA93G&#39;, avg(overall)=4.666666666666667),\n",
       " Row(reviewerID=&#39;AW9FZO9WF88CV&#39;, avg(overall)=4.285714285714286),\n",
       " Row(reviewerID=&#39;A2A56MRVND9JVW&#39;, avg(overall)=4.833333333333333),\n",
       " Row(reviewerID=&#39;A2TWO5CLBUA5E6&#39;, avg(overall)=4.166666666666667),\n",
       " Row(reviewerID=&#39;A14DLCVBFBK7XV&#39;, avg(overall)=4.4),\n",
       " Row(reviewerID=&#39;A1CEO7S4330SW2&#39;, avg(overall)=5.0),\n",
       " Row(reviewerID=&#39;AF89IW5TVF8I8&#39;, avg(overall)=4.444444444444445),\n",
       " Row(reviewerID=&#39;A2G0Y6FVP84EX7&#39;, avg(overall)=4.0),\n",
       " Row(reviewerID=&#39;A1BOJE4E44MYW6&#39;, avg(overall)=4.166666666666667),\n",
       " Row(reviewerID=&#39;A3EJOBNMT20Q6W&#39;, avg(overall)=5.0),\n",
       " Row(reviewerID=&#39;A1VSD1TTO9LTA6&#39;, avg(overall)=5.0),\n",
       " Row(reviewerID=&#39;A17FQHN25ETAQH&#39;, avg(overall)=4.5),\n",
       " Row(reviewerID=&#39;A3CPL126VL12H8&#39;, avg(overall)=4.666666666666667),\n",
       " Row(reviewerID=&#39;A29XAP7W7YG0ZA&#39;, avg(overall)=4.833333333333333),\n",
       " Row(reviewerID=&#39;A2URD460P4XY10&#39;, avg(overall)=5.0),\n",
       " Row(reviewerID=&#39;A3MSH2YW203752&#39;, avg(overall)=5.0),\n",
       " Row(reviewerID=&#39;ARIFCL50JD5SK&#39;, avg(overall)=4.545454545454546),\n",
       " Row(reviewerID=&#39;A28973L3OU3OVV&#39;, avg(overall)=3.4),\n",
       " Row(reviewerID=&#39;A3YAIGMXF3049&#39;, avg(overall)=4.0625),\n",
       " Row(reviewerID=&#39;A1CQD4YELHLXBB&#39;, avg(overall)=4.333333333333333),\n",
       " Row(reviewerID=&#39;A3UGLZNHE8MSNT&#39;, avg(overall)=4.4),\n",
       " Row(reviewerID=&#39;A1OPV6BD37T1VL&#39;, avg(overall)=4.090909090909091),\n",
       " Row(reviewerID=&#39;A2S0HZ2WHXRKD&#39;, avg(overall)=4.0),\n",
       " Row(reviewerID=&#39;A1TA9VB0SA3FEO&#39;, avg(overall)=4.0),\n",
       " Row(reviewerID=&#39;ARD9QTJXZXAC8&#39;, avg(overall)=3.1904761904761907),\n",
       " Row(reviewerID=&#39;A1NXRF3I791HRI&#39;, avg(overall)=3.875),\n",
       " Row(reviewerID=&#39;A2GCEBDTV8R0M2&#39;, avg(overall)=3.625),\n",
       " Row(reviewerID=&#39;A9XCW04U6X4NP&#39;, avg(overall)=4.4),\n",
       " Row(reviewerID=&#39;A13U56PF19VGSW&#39;, avg(overall)=5.0),\n",
       " Row(reviewerID=&#39;A2JPEYP1OTIQE4&#39;, avg(overall)=5.0),\n",
       " Row(reviewerID=&#39;A1PBLFIRAZII1F&#39;, avg(overall)=5.0),\n",
       " Row(reviewerID=&#39;A2TKEMX4M9Y6E6&#39;, avg(overall)=5.0),\n",
       " Row(reviewerID=&#39;A3QBCX2QMKJ7AH&#39;, avg(overall)=4.515151515151516),\n",
       " Row(reviewerID=&#39;A3Q1QHUK0JDLIE&#39;, avg(overall)=5.0),\n",
       " Row(reviewerID=&#39;A30Q5JUJULYNV8&#39;, avg(overall)=4.2),\n",
       " Row(reviewerID=&#39;A3N041QAKY7BVW&#39;, avg(overall)=3.0),\n",
       " Row(reviewerID=&#39;A1S9TVJIMBPB5Q&#39;, avg(overall)=4.833333333333333),\n",
       " Row(reviewerID=&#39;A3OPXNND84JPV6&#39;, avg(overall)=4.6),\n",
       " Row(reviewerID=&#39;A3LUUDFQJWLRTB&#39;, avg(overall)=4.0),\n",
       " Row(reviewerID=&#39;ARRAPMXS0U741&#39;, avg(overall)=5.0),\n",
       " Row(reviewerID=&#39;ATRQPL5OG4NIP&#39;, avg(overall)=4.2),\n",
       " Row(reviewerID=&#39;A375NF45A1MDWI&#39;, avg(overall)=4.083333333333333),\n",
       " Row(reviewerID=&#39;A3FCGR4EK16XUF&#39;, avg(overall)=5.0),\n",
       " Row(reviewerID=&#39;ATHUV6LFX2AXM&#39;, avg(overall)=5.0),\n",
       " Row(reviewerID=&#39;A1C8GULXKPZF8V&#39;, avg(overall)=4.714285714285714),\n",
       " Row(reviewerID=&#39;A1UYMXFON06KQ6&#39;, avg(overall)=4.08),\n",
       " Row(reviewerID=&#39;A1GZ3B0GMFL63O&#39;, avg(overall)=4.8),\n",
       " Row(reviewerID=&#39;A8YYMBXZN2SEZ&#39;, avg(overall)=5.0),\n",
       " Row(reviewerID=&#39;A29QRHQN6WBBNV&#39;, avg(overall)=4.2),\n",
       " Row(reviewerID=&#39;A13QOK3SKIT9QL&#39;, avg(overall)=3.466666666666667),\n",
       " Row(reviewerID=&#39;A1Q5W3RQZS06HO&#39;, avg(overall)=4.8),\n",
       " Row(reviewerID=&#39;APBDBT90MAALM&#39;, avg(overall)=5.0),\n",
       " Row(reviewerID=&#39;A2P6QCZWW3H1X6&#39;, avg(overall)=4.0),\n",
       " Row(reviewerID=&#39;A315QZJ3XH5V8E&#39;, avg(overall)=3.0),\n",
       " Row(reviewerID=&#39;AEA0AGV78RDF8&#39;, avg(overall)=3.857142857142857),\n",
       " Row(reviewerID=&#39;A1EBHZY28NME1O&#39;, avg(overall)=4.6),\n",
       " Row(reviewerID=&#39;A3A2TPB74A329Q&#39;, avg(overall)=4.2),\n",
       " Row(reviewerID=&#39;A347X1XDEX60UH&#39;, avg(overall)=4.8),\n",
       " Row(reviewerID=&#39;A3I6YLOOFW6FZY&#39;, avg(overall)=4.2),\n",
       " Row(reviewerID=&#39;A38E0NUTVGQM45&#39;, avg(overall)=3.8),\n",
       " Row(reviewerID=&#39;A3CTVTT3OYEO6G&#39;, avg(overall)=4.6),\n",
       " Row(reviewerID=&#39;A34VKF1E5AG4CC&#39;, avg(overall)=3.8),\n",
       " Row(reviewerID=&#39;A10KHX41ONY4U1&#39;, avg(overall)=4.666666666666667),\n",
       " Row(reviewerID=&#39;ADF0URBXWJQOJ&#39;, avg(overall)=3.2),\n",
       " Row(reviewerID=&#39;A3VOT9DKME6ER&#39;, avg(overall)=4.333333333333333),\n",
       " Row(reviewerID=&#39;A2BMZRO0H7TFCS&#39;, avg(overall)=3.8461538461538463),\n",
       " Row(reviewerID=&#39;AM2PAP6COUV5J&#39;, avg(overall)=3.857142857142857),\n",
       " Row(reviewerID=&#39;AYOJ4CX2CZP7Y&#39;, avg(overall)=4.875),\n",
       " Row(reviewerID=&#39;A2K5VHI9ORKE2M&#39;, avg(overall)=3.8),\n",
       " Row(reviewerID=&#39;A1WKJJR57I17ST&#39;, avg(overall)=5.0),\n",
       " Row(reviewerID=&#39;AP6TK94IR577S&#39;, avg(overall)=3.8333333333333335),\n",
       " Row(reviewerID=&#39;A1QCX1GYN86FYX&#39;, avg(overall)=4.2),\n",
       " Row(reviewerID=&#39;AIXDV2Z2NEYP6&#39;, avg(overall)=3.5),\n",
       " Row(reviewerID=&#39;A6HOWM08PLFZ5&#39;, avg(overall)=3.3333333333333335),\n",
       " Row(reviewerID=&#39;ALGLYG73KOEN2&#39;, avg(overall)=4.8),\n",
       " Row(reviewerID=&#39;A35Q0RBM3YNQNF&#39;, avg(overall)=4.444444444444445),\n",
       " Row(reviewerID=&#39;A2SA1FQNYT0X00&#39;, avg(overall)=4.666666666666667),\n",
       " Row(reviewerID=&#39;A3AL7WXMX6MLGD&#39;, avg(overall)=4.0),\n",
       " Row(reviewerID=&#39;AFYQ9V4XBVCJ1&#39;, avg(overall)=3.9166666666666665),\n",
       " Row(reviewerID=&#39;A3PXFUL4WX8850&#39;, avg(overall)=4.8),\n",
       " Row(reviewerID=&#39;A3PZLW5P97IO5R&#39;, avg(overall)=4.4),\n",
       " Row(reviewerID=&#39;A2WTZYJFWNRAOI&#39;, avg(overall)=4.0),\n",
       " Row(reviewerID=&#39;A25ND1VXTT9LF&#39;, avg(overall)=5.0),\n",
       " Row(reviewerID=&#39;A1FYYE9Z89Q82J&#39;, avg(overall)=4.4),\n",
       " Row(reviewerID=&#39;AO1NNCO03D0LH&#39;, avg(overall)=4.888888888888889),\n",
       " Row(reviewerID=&#39;A2WQY1B8ZS7QRZ&#39;, avg(overall)=3.0),\n",
       " Row(reviewerID=&#39;A1FQSSLJ72JRBT&#39;, avg(overall)=5.0),\n",
       " Row(reviewerID=&#39;AMFXXAOVV4CPJ&#39;, avg(overall)=4.222222222222222),\n",
       " Row(reviewerID=&#39;A1ZNKNL4Z0MINN&#39;, avg(overall)=3.8333333333333335),\n",
       " Row(reviewerID=&#39;A2YXWW0G7S8RZP&#39;, avg(overall)=4.545454545454546),\n",
       " Row(reviewerID=&#39;AO9LDPUTA0919&#39;, avg(overall)=3.8),\n",
       " Row(reviewerID=&#39;A1VMMMFNAMF87S&#39;, avg(overall)=4.565217391304348),\n",
       " Row(reviewerID=&#39;A2N0LMGNHRWW6T&#39;, avg(overall)=4.6),\n",
       " Row(reviewerID=&#39;A2GMFLSLYSEG3S&#39;, avg(overall)=5.0),\n",
       " Row(reviewerID=&#39;AT4TEQ216VX3K&#39;, avg(overall)=4.625),\n",
       " Row(reviewerID=&#39;A034597326Z83X79S50FI&#39;, avg(overall)=4.714285714285714),\n",
       " Row(reviewerID=&#39;ACELEUBPR68AW&#39;, avg(overall)=4.2),\n",
       " Row(reviewerID=&#39;A3147QM0APQWI7&#39;, avg(overall)=4.4),\n",
       " Row(reviewerID=&#39;A3NQ92P0GJRJZ3&#39;, avg(overall)=4.8),\n",
       " Row(reviewerID=&#39;A2L78BBV9QW5JU&#39;, avg(overall)=3.6666666666666665),\n",
       " Row(reviewerID=&#39;A32IHWKSLPMRBK&#39;, avg(overall)=3.5833333333333335),\n",
       " Row(reviewerID=&#39;A1B73WBT0EUCSO&#39;, avg(overall)=4.0),\n",
       " Row(reviewerID=&#39;A1VF0102Z9VITO&#39;, avg(overall)=4.666666666666667),\n",
       " Row(reviewerID=&#39;A1QCJEFA8WVLFX&#39;, avg(overall)=4.6875),\n",
       " Row(reviewerID=&#39;A12PN254PTSGU5&#39;, avg(overall)=4.0),\n",
       " Row(reviewerID=&#39;A3VLWTCNLWFGGJ&#39;, avg(overall)=4.4),\n",
       " Row(reviewerID=&#39;A3RTEA60XVN0G1&#39;, avg(overall)=4.571428571428571),\n",
       " Row(reviewerID=&#39;A1T656A0FAN8F3&#39;, avg(overall)=3.8),\n",
       " Row(reviewerID=&#39;A2218FQTW05XME&#39;, avg(overall)=4.833333333333333),\n",
       " Row(reviewerID=&#39;A4YMO2ODRTYPY&#39;, avg(overall)=4.222222222222222),\n",
       " Row(reviewerID=&#39;A3QYD27F90N4OE&#39;, avg(overall)=4.0),\n",
       " Row(reviewerID=&#39;AXAUID80U4XJX&#39;, avg(overall)=4.833333333333333),\n",
       " Row(reviewerID=&#39;A3F8A11FLWKOJS&#39;, avg(overall)=4.25),\n",
       " Row(reviewerID=&#39;A3VHY83ZWW2PEK&#39;, avg(overall)=4.333333333333333),\n",
       " Row(reviewerID=&#39;A12L9KI1FGS0CA&#39;, avg(overall)=4.333333333333333),\n",
       " Row(reviewerID=&#39;A3L17RRL053ZXH&#39;, avg(overall)=4.0),\n",
       " Row(reviewerID=&#39;A1JXX17HZR7754&#39;, avg(overall)=4.0),\n",
       " Row(reviewerID=&#39;A3LEDIH8MAE3R&#39;, avg(overall)=4.833333333333333),\n",
       " Row(reviewerID=&#39;A25NULIP3O550P&#39;, avg(overall)=2.8),\n",
       " Row(reviewerID=&#39;A235X9VK8ND08T&#39;, avg(overall)=4.388888888888889),\n",
       " Row(reviewerID=&#39;A3AABSBJ9M45CF&#39;, avg(overall)=4.5),\n",
       " Row(reviewerID=&#39;A1TX2N102JG27W&#39;, avg(overall)=4.631578947368421),\n",
       " Row(reviewerID=&#39;A2NZHTSH9EVCNZ&#39;, avg(overall)=4.2),\n",
       " Row(reviewerID=&#39;A3GU5YTM2N686N&#39;, avg(overall)=5.0),\n",
       " Row(reviewerID=&#39;AWBQTFLTIKYOZ&#39;, avg(overall)=4.571428571428571),\n",
       " Row(reviewerID=&#39;A1JUAHVYRZRQJV&#39;, avg(overall)=4.625),\n",
       " Row(reviewerID=&#39;A1RP4KAAIA3PYZ&#39;, avg(overall)=5.0),\n",
       " Row(reviewerID=&#39;A1J9660BEZ2G09&#39;, avg(overall)=4.4),\n",
       " Row(reviewerID=&#39;A3NTBR2QTRQYX2&#39;, avg(overall)=4.6),\n",
       " Row(reviewerID=&#39;AQAH04Y4KD3LT&#39;, avg(overall)=5.0),\n",
       " Row(reviewerID=&#39;AQSILHK8964MX&#39;, avg(overall)=4.0),\n",
       " Row(reviewerID=&#39;A2RIPAQSNWI6B2&#39;, avg(overall)=5.0),\n",
       " Row(reviewerID=&#39;A31DXFCHTXJCUF&#39;, avg(overall)=4.8),\n",
       " Row(reviewerID=&#39;AFWZGQESHAJLL&#39;, avg(overall)=4.833333333333333),\n",
       " Row(reviewerID=&#39;A9193QN2B1HJD&#39;, avg(overall)=4.875),\n",
       " Row(reviewerID=&#39;A25IRWH03ZHRRE&#39;, avg(overall)=3.5),\n",
       " Row(reviewerID=&#39;A1SNAWQ3DYNK5I&#39;, avg(overall)=4.888888888888889),\n",
       " Row(reviewerID=&#39;AI0KS6TKN9599&#39;, avg(overall)=4.2),\n",
       " Row(reviewerID=&#39;A1GAYQGLUPVZQS&#39;, avg(overall)=4.8),\n",
       " Row(reviewerID=&#39;AI1O7QYVB151F&#39;, avg(overall)=4.833333333333333),\n",
       " Row(reviewerID=&#39;A1SI5XRPGE7J5W&#39;, avg(overall)=4.2),\n",
       " Row(reviewerID=&#39;A20PEGFP2NVI47&#39;, avg(overall)=4.714285714285714),\n",
       " Row(reviewerID=&#39;AP1JWAY7J1TSD&#39;, avg(overall)=5.0),\n",
       " Row(reviewerID=&#39;A2PAFNZ5D4J4WN&#39;, avg(overall)=4.5),\n",
       " Row(reviewerID=&#39;A1XJW0XA8VDU4&#39;, avg(overall)=4.714285714285714),\n",
       " Row(reviewerID=&#39;ANVDFG2B2BQGF&#39;, avg(overall)=5.0),\n",
       " Row(reviewerID=&#39;A12ZSBECOKCABG&#39;, avg(overall)=5.0),\n",
       " Row(reviewerID=&#39;A3RRM0BGZ821MX&#39;, avg(overall)=3.4),\n",
       " Row(reviewerID=&#39;A3B7KGAUPB3TKS&#39;, avg(overall)=4.818181818181818),\n",
       " Row(reviewerID=&#39;A3O6LOIW8WAPQK&#39;, avg(overall)=5.0),\n",
       " Row(reviewerID=&#39;A1OIYUWNXTWV5L&#39;, avg(overall)=4.8),\n",
       " Row(reviewerID=&#39;A2ORXBQIAYYSLD&#39;, avg(overall)=4.285714285714286),\n",
       " Row(reviewerID=&#39;A224KM22RQ5CD4&#39;, avg(overall)=3.6),\n",
       " Row(reviewerID=&#39;A1Q2CBTWZNCCV1&#39;, avg(overall)=4.6),\n",
       " Row(reviewerID=&#39;A293HA28PN3VO4&#39;, avg(overall)=4.333333333333333),\n",
       " Row(reviewerID=&#39;A11FCMZC184KXZ&#39;, avg(overall)=4.166666666666667),\n",
       " Row(reviewerID=&#39;A1O7GS4P9Y12GO&#39;, avg(overall)=5.0),\n",
       " Row(reviewerID=&#39;A1GP7SFKQ719HI&#39;, avg(overall)=4.833333333333333),\n",
       " Row(reviewerID=&#39;ACZMM7OTESMH0&#39;, avg(overall)=4.75),\n",
       " Row(reviewerID=&#39;A2ABO7X2PO2EG3&#39;, avg(overall)=4.666666666666667),\n",
       " Row(reviewerID=&#39;A2R9PCIR3X3CAC&#39;, avg(overall)=4.0),\n",
       " Row(reviewerID=&#39;A2F04VREV7SM7O&#39;, avg(overall)=3.8),\n",
       " Row(reviewerID=&#39;A3CPUE2O17N0DJ&#39;, avg(overall)=4.6),\n",
       " Row(reviewerID=&#39;A1MAB7VNVO2FJL&#39;, avg(overall)=4.833333333333333),\n",
       " Row(reviewerID=&#39;A3VS2RYRGDW4HS&#39;, avg(overall)=3.6666666666666665),\n",
       " Row(reviewerID=&#39;A1N2EMZ9F130A9&#39;, avg(overall)=4.8),\n",
       " Row(reviewerID=&#39;A3FWGSJ3T3N5QW&#39;, avg(overall)=4.0),\n",
       " Row(reviewerID=&#39;A2MNNS4HEXONIN&#39;, avg(overall)=4.4),\n",
       " Row(reviewerID=&#39;A226VHYFG6N5OE&#39;, avg(overall)=3.8),\n",
       " Row(reviewerID=&#39;A3FZ6QJXIR1EH1&#39;, avg(overall)=4.6),\n",
       " Row(reviewerID=&#39;A26I8RW155YET&#39;, avg(overall)=4.285714285714286),\n",
       " Row(reviewerID=&#39;AMG28Z36AMAQ6&#39;, avg(overall)=4.875),\n",
       " Row(reviewerID=&#39;A3AQP2VX0TJQ73&#39;, avg(overall)=3.75),\n",
       " Row(reviewerID=&#39;A1YAHKESH1JVQZ&#39;, avg(overall)=5.0),\n",
       " Row(reviewerID=&#39;AW5MEPS7F3A4W&#39;, avg(overall)=4.6),\n",
       " Row(reviewerID=&#39;A1LF72WDHE73IY&#39;, avg(overall)=5.0),\n",
       " Row(reviewerID=&#39;A1R4BL5MYUDNDJ&#39;, avg(overall)=3.8),\n",
       " Row(reviewerID=&#39;A21JBH914SZYPY&#39;, avg(overall)=5.0),\n",
       " Row(reviewerID=&#39;A1X9TCCX7YMAZ3&#39;, avg(overall)=5.0),\n",
       " Row(reviewerID=&#39;A2EYTOR6PTGHUC&#39;, avg(overall)=4.222222222222222),\n",
       " Row(reviewerID=&#39;A18OBUSMXVE8R0&#39;, avg(overall)=4.958333333333333),\n",
       " Row(reviewerID=&#39;A2WT9FBIC8G2UR&#39;, avg(overall)=4.7),\n",
       " Row(reviewerID=&#39;A3KZOUH7TUTT00&#39;, avg(overall)=3.888888888888889),\n",
       " Row(reviewerID=&#39;A10MG6WLSMALA1&#39;, avg(overall)=4.1),\n",
       " Row(reviewerID=&#39;A16A81C3ELWURB&#39;, avg(overall)=4.0),\n",
       " Row(reviewerID=&#39;A3LBXN9F2N8KH9&#39;, avg(overall)=5.0),\n",
       " Row(reviewerID=&#39;A1WQ34TQB0ASTN&#39;, avg(overall)=3.8),\n",
       " Row(reviewerID=&#39;A3S5K7Q4Q85NJU&#39;, avg(overall)=4.285714285714286),\n",
       " Row(reviewerID=&#39;A2VDSIII404UTO&#39;, avg(overall)=4.454545454545454),\n",
       " Row(reviewerID=&#39;A2V3HYAS16V30T&#39;, avg(overall)=4.8),\n",
       " Row(reviewerID=&#39;ATUY6U5HHYF4Q&#39;, avg(overall)=3.2857142857142856),\n",
       " Row(reviewerID=&#39;AL2VDE4LO4ESR&#39;, avg(overall)=4.4),\n",
       " Row(reviewerID=&#39;A2YFZ0UYCG2EO3&#39;, avg(overall)=3.857142857142857),\n",
       " Row(reviewerID=&#39;A2RTCTTNROH03O&#39;, avg(overall)=4.4375),\n",
       " Row(reviewerID=&#39;A1A7VIA7BN83OR&#39;, avg(overall)=4.166666666666667),\n",
       " Row(reviewerID=&#39;A3622F2VUDRIYR&#39;, avg(overall)=4.285714285714286),\n",
       " Row(reviewerID=&#39;A2YEJVOJ5AZ4QM&#39;, avg(overall)=3.8461538461538463),\n",
       " Row(reviewerID=&#39;A2ME89MSWVG9NF&#39;, avg(overall)=3.8125),\n",
       " Row(reviewerID=&#39;A1KTIP6X9PJMSK&#39;, avg(overall)=4.571428571428571),\n",
       " Row(reviewerID=&#39;A38DXHZZSXYX49&#39;, avg(overall)=3.2),\n",
       " Row(reviewerID=&#39;A26NSWOAKB86LM&#39;, avg(overall)=4.555555555555555),\n",
       " Row(reviewerID=&#39;AHZH2L16XCZJ7&#39;, avg(overall)=4.777777777777778),\n",
       " Row(reviewerID=&#39;A1QS763CW91E16&#39;, avg(overall)=5.0),\n",
       " Row(reviewerID=&#39;A3Q112ZJ6WEM0X&#39;, avg(overall)=4.333333333333333),\n",
       " Row(reviewerID=&#39;AOFVU4GZMWNRV&#39;, avg(overall)=4.470588235294118),\n",
       " Row(reviewerID=&#39;A3QYQMLVXWC499&#39;, avg(overall)=4.6),\n",
       " Row(reviewerID=&#39;A2NDG1DVMSSAEW&#39;, avg(overall)=4.833333333333333),\n",
       " Row(reviewerID=&#39;A3W4G0SSIE6NKG&#39;, avg(overall)=3.923076923076923),\n",
       " Row(reviewerID=&#39;A1V0GLV2R0YNU7&#39;, avg(overall)=3.8333333333333335),\n",
       " Row(reviewerID=&#39;A1LNKVKV4MODPX&#39;, avg(overall)=3.857142857142857),\n",
       " Row(reviewerID=&#39;AG50K3NZQ6QJX&#39;, avg(overall)=5.0),\n",
       " Row(reviewerID=&#39;A188MJCXB1EZUU&#39;, avg(overall)=4.333333333333333),\n",
       " Row(reviewerID=&#39;AFTLY73R6MLQA&#39;, avg(overall)=4.0),\n",
       " Row(reviewerID=&#39;A1OJAQ7WCDNSOI&#39;, avg(overall)=2.4),\n",
       " Row(reviewerID=&#39;A1JTTI1KH3DOCY&#39;, avg(overall)=3.6296296296296298),\n",
       " Row(reviewerID=&#39;A1X47YS1HN0JNG&#39;, avg(overall)=4.333333333333333),\n",
       " Row(reviewerID=&#39;A14YYVYYE34IM1&#39;, avg(overall)=3.2),\n",
       " Row(reviewerID=&#39;AIF410VRJ9RYG&#39;, avg(overall)=4.4),\n",
       " Row(reviewerID=&#39;AUXQ7F61TTA53&#39;, avg(overall)=3.8666666666666667),\n",
       " Row(reviewerID=&#39;A1GSHFWF4ZL05I&#39;, avg(overall)=5.0),\n",
       " Row(reviewerID=&#39;A11LLM2CFX3VR6&#39;, avg(overall)=3.6),\n",
       " Row(reviewerID=&#39;ARIDN94LOCQFD&#39;, avg(overall)=4.17948717948718),\n",
       " Row(reviewerID=&#39;AQ2QY69Y9DSDZ&#39;, avg(overall)=5.0),\n",
       " Row(reviewerID=&#39;A2YJHT2DC3ADGC&#39;, avg(overall)=4.666666666666667),\n",
       " Row(reviewerID=&#39;A3HDTWBLQS5VWQ&#39;, avg(overall)=4.2),\n",
       " Row(reviewerID=&#39;A30T1TG6J42XE0&#39;, avg(overall)=4.533333333333333),\n",
       " Row(reviewerID=&#39;A26ER7QE4RC38C&#39;, avg(overall)=4.0),\n",
       " Row(reviewerID=&#39;A1QIFYGJPGARO3&#39;, avg(overall)=4.166666666666667),\n",
       " Row(reviewerID=&#39;A325LPLXVP6F15&#39;, avg(overall)=4.571428571428571),\n",
       " Row(reviewerID=&#39;A2Z2RKOFT8BZW6&#39;, avg(overall)=5.0),\n",
       " Row(reviewerID=&#39;A2WI2U6OAXM8CF&#39;, avg(overall)=4.777777777777778),\n",
       " Row(reviewerID=&#39;A1GXCTXOZ1LEH4&#39;, avg(overall)=4.923076923076923),\n",
       " Row(reviewerID=&#39;AHJ6J7A0OFX8P&#39;, avg(overall)=4.0),\n",
       " Row(reviewerID=&#39;A2W34ZSDBOPC6&#39;, avg(overall)=4.5),\n",
       " Row(reviewerID=&#39;A1IC0HZ35M0406&#39;, avg(overall)=3.5),\n",
       " Row(reviewerID=&#39;A13XIY7XJYBEKT&#39;, avg(overall)=3.6),\n",
       " Row(reviewerID=&#39;A2K14Y5YJWI8Q4&#39;, avg(overall)=5.0),\n",
       " Row(reviewerID=&#39;ALG4MGOY96EW1&#39;, avg(overall)=4.6),\n",
       " Row(reviewerID=&#39;A23VKF4GTLY8U0&#39;, avg(overall)=4.833333333333333),\n",
       " Row(reviewerID=&#39;AQ7I2NZ9WLIKL&#39;, avg(overall)=5.0),\n",
       " Row(reviewerID=&#39;A38R5EQGVOY8XL&#39;, avg(overall)=4.4),\n",
       " Row(reviewerID=&#39;AJVON51FZUYE8&#39;, avg(overall)=4.166666666666667),\n",
       " Row(reviewerID=&#39;A8D0C9SK4ZXTQ&#39;, avg(overall)=4.2),\n",
       " Row(reviewerID=&#39;A325C1BAYA0309&#39;, avg(overall)=5.0),\n",
       " Row(reviewerID=&#39;A1KOU9EM98MVG9&#39;, avg(overall)=4.5),\n",
       " Row(reviewerID=&#39;A2W0AJD1QWP1H4&#39;, avg(overall)=4.7272727272727275),\n",
       " Row(reviewerID=&#39;A2EO9QEEX1CKTC&#39;, avg(overall)=4.6),\n",
       " Row(reviewerID=&#39;A37NPWGGUZVFMK&#39;, avg(overall)=4.166666666666667),\n",
       " Row(reviewerID=&#39;A1PDK6P3S9IH7U&#39;, avg(overall)=4.4),\n",
       " Row(reviewerID=&#39;AUUG74MV4KQAS&#39;, avg(overall)=4.888888888888889),\n",
       " Row(reviewerID=&#39;A15ONIPEXC9CNS&#39;, avg(overall)=4.833333333333333),\n",
       " Row(reviewerID=&#39;A3EPBWXUWBOJI7&#39;, avg(overall)=4.0),\n",
       " Row(reviewerID=&#39;ASEYZYO85DOTA&#39;, avg(overall)=3.9166666666666665),\n",
       " Row(reviewerID=&#39;A37ESMW5PAVG3M&#39;, avg(overall)=4.166666666666667),\n",
       " Row(reviewerID=&#39;A39D7ONPOORMUT&#39;, avg(overall)=4.857142857142857),\n",
       " Row(reviewerID=&#39;A2SKV4WHQL1Z4V&#39;, avg(overall)=5.0),\n",
       " Row(reviewerID=&#39;A1BT9SD02Q6DO7&#39;, avg(overall)=3.0),\n",
       " Row(reviewerID=&#39;A1H1TLRWG5OB8N&#39;, avg(overall)=4.363636363636363),\n",
       " Row(reviewerID=&#39;AVR4ED8X6NE5&#39;, avg(overall)=4.4),\n",
       " Row(reviewerID=&#39;A1MCQLJGZ2ODCK&#39;, avg(overall)=4.647058823529412),\n",
       " Row(reviewerID=&#39;A244CRJ2QSVLZ4&#39;, avg(overall)=4.230769230769231),\n",
       " Row(reviewerID=&#39;A3874X0MVV5PV2&#39;, avg(overall)=5.0),\n",
       " Row(reviewerID=&#39;A1Y32FBX45NCNL&#39;, avg(overall)=4.2727272727272725),\n",
       " Row(reviewerID=&#39;A2XFJUAVUEHP7X&#39;, avg(overall)=4.625),\n",
       " Row(reviewerID=&#39;A1FRADBDXQPJJC&#39;, avg(overall)=3.857142857142857),\n",
       " Row(reviewerID=&#39;ALVG32OL7K7WZ&#39;, avg(overall)=5.0),\n",
       " Row(reviewerID=&#39;A11PUCHQS3MM97&#39;, avg(overall)=4.4),\n",
       " Row(reviewerID=&#39;A6FO0MB6JE7EL&#39;, avg(overall)=4.6),\n",
       " Row(reviewerID=&#39;A2P79C1VAFNWDN&#39;, avg(overall)=4.8),\n",
       " Row(reviewerID=&#39;A1TPTNWN7YPS3G&#39;, avg(overall)=4.4),\n",
       " Row(reviewerID=&#39;A1NYXNBP05FD8Y&#39;, avg(overall)=4.833333333333333),\n",
       " Row(reviewerID=&#39;A2O5A0L7NL9J3Q&#39;, avg(overall)=5.0),\n",
       " Row(reviewerID=&#39;A29VZ6937SCRX6&#39;, avg(overall)=4.0),\n",
       " Row(reviewerID=&#39;A2EA49SKDEPPQV&#39;, avg(overall)=3.4),\n",
       " Row(reviewerID=&#39;AW9AIAJ9MV8DD&#39;, avg(overall)=5.0),\n",
       " Row(reviewerID=&#39;A3EYFNCOKPHBUX&#39;, avg(overall)=2.6),\n",
       " Row(reviewerID=&#39;A35OBVCKDNYUR3&#39;, avg(overall)=5.0),\n",
       " Row(reviewerID=&#39;A1GQAKL9CGQLP1&#39;, avg(overall)=5.0),\n",
       " Row(reviewerID=&#39;A1A6FDVPCF5CB4&#39;, avg(overall)=5.0),\n",
       " Row(reviewerID=&#39;A2EKPIN655LOW8&#39;, avg(overall)=4.0),\n",
       " Row(reviewerID=&#39;A1UMPRPWUL3MUF&#39;, avg(overall)=4.666666666666667),\n",
       " Row(reviewerID=&#39;A1O4PG6BCRY294&#39;, avg(overall)=4.7),\n",
       " Row(reviewerID=&#39;A1K7GYL8FWRGOG&#39;, avg(overall)=4.857142857142857),\n",
       " Row(reviewerID=&#39;AYIRKYTTQYZ6U&#39;, avg(overall)=4.5),\n",
       " Row(reviewerID=&#39;A1AK8KQE5TF6PL&#39;, avg(overall)=4.428571428571429),\n",
       " Row(reviewerID=&#39;A1I5O6LSW96XTB&#39;, avg(overall)=5.0),\n",
       " Row(reviewerID=&#39;A35TR1Z43R2VCN&#39;, avg(overall)=4.4),\n",
       " Row(reviewerID=&#39;A1SWY7DY3RRC2Q&#39;, avg(overall)=4.0),\n",
       " Row(reviewerID=&#39;A2I1B7GHNP1JTA&#39;, avg(overall)=4.666666666666667),\n",
       " Row(reviewerID=&#39;AJB7W7OD11G8Z&#39;, avg(overall)=4.4),\n",
       " Row(reviewerID=&#39;A2942CY3T6EWXU&#39;, avg(overall)=4.076923076923077),\n",
       " Row(reviewerID=&#39;AP92371L7JR4E&#39;, avg(overall)=3.8),\n",
       " Row(reviewerID=&#39;A19XM9DIPHOBBL&#39;, avg(overall)=4.142857142857143),\n",
       " Row(reviewerID=&#39;A2NV7XGMSK8S0V&#39;, avg(overall)=4.6),\n",
       " Row(reviewerID=&#39;A1ABA883LM763R&#39;, avg(overall)=4.4),\n",
       " Row(reviewerID=&#39;A1HDE6VKY9U9A&#39;, avg(overall)=4.428571428571429),\n",
       " Row(reviewerID=&#39;A12B7ZMXFI6IXY&#39;, avg(overall)=4.777777777777778),\n",
       " Row(reviewerID=&#39;A3K3QCIIIWQA5Y&#39;, avg(overall)=4.166666666666667),\n",
       " Row(reviewerID=&#39;A28DMVM1R0A3LM&#39;, avg(overall)=3.75),\n",
       " Row(reviewerID=&#39;A7QHPC2QIHPGI&#39;, avg(overall)=4.666666666666667),\n",
       " Row(reviewerID=&#39;A1U3CORCAMY9I7&#39;, avg(overall)=4.4),\n",
       " Row(reviewerID=&#39;A3ERQ8VYGYMK8W&#39;, avg(overall)=4.5),\n",
       " Row(reviewerID=&#39;A15TZFBKVISAAJ&#39;, avg(overall)=4.833333333333333),\n",
       " Row(reviewerID=&#39;A1HMWFKHRQ190J&#39;, avg(overall)=4.142857142857143),\n",
       " Row(reviewerID=&#39;A2WK7ZBM33IF5L&#39;, avg(overall)=3.5),\n",
       " Row(reviewerID=&#39;A2JG550V9O0FAA&#39;, avg(overall)=4.8),\n",
       " Row(reviewerID=&#39;A10DT30215CH5Y&#39;, avg(overall)=4.0),\n",
       " Row(reviewerID=&#39;A2WJMG3TDN8AVO&#39;, avg(overall)=3.5),\n",
       " Row(reviewerID=&#39;A1S7ZSZREB1OXG&#39;, avg(overall)=2.5714285714285716),\n",
       " Row(reviewerID=&#39;A1FMRC8KE0K8PQ&#39;, avg(overall)=4.75),\n",
       " Row(reviewerID=&#39;A1NIBIZM8X3U4S&#39;, avg(overall)=4.666666666666667),\n",
       " Row(reviewerID=&#39;AB8HCOX3YULQS&#39;, avg(overall)=3.875),\n",
       " Row(reviewerID=&#39;AWH5PLJU61BMG&#39;, avg(overall)=4.857142857142857),\n",
       " Row(reviewerID=&#39;AZJG3Y385XNZE&#39;, avg(overall)=4.5),\n",
       " Row(reviewerID=&#39;A3KGW9MI9EXYQ3&#39;, avg(overall)=5.0),\n",
       " Row(reviewerID=&#39;A2RF9BEZSNFICQ&#39;, avg(overall)=4.625),\n",
       " Row(reviewerID=&#39;A2NKNE9SV2KIN2&#39;, avg(overall)=3.6666666666666665),\n",
       " Row(reviewerID=&#39;A3R6RMXSWHTZHG&#39;, avg(overall)=2.6),\n",
       " Row(reviewerID=&#39;A3L9SREX2RUB7X&#39;, avg(overall)=5.0),\n",
       " Row(reviewerID=&#39;A37TKEDFFYR5RX&#39;, avg(overall)=4.285714285714286),\n",
       " Row(reviewerID=&#39;A21Z3BDD6W9YTN&#39;, avg(overall)=3.5555555555555554),\n",
       " Row(reviewerID=&#39;A1WGRWF9TSCJRO&#39;, avg(overall)=4.625),\n",
       " Row(reviewerID=&#39;ARVOF7YUQTCB7&#39;, avg(overall)=4.2),\n",
       " Row(reviewerID=&#39;A34205D5W4JUH3&#39;, avg(overall)=5.0),\n",
       " Row(reviewerID=&#39;AH8NP79OTUENP&#39;, avg(overall)=4.666666666666667),\n",
       " Row(reviewerID=&#39;AOCND62YBNAJL&#39;, avg(overall)=4.0),\n",
       " Row(reviewerID=&#39;A2MUZDMZPJX217&#39;, avg(overall)=4.555555555555555),\n",
       " Row(reviewerID=&#39;A2YM3KILJ1G0YJ&#39;, avg(overall)=4.0),\n",
       " Row(reviewerID=&#39;A31KZBX45HJ39I&#39;, avg(overall)=4.2),\n",
       " Row(reviewerID=&#39;A3JI0J5NXVI91G&#39;, avg(overall)=4.666666666666667),\n",
       " Row(reviewerID=&#39;A3Q1N069UIAFCU&#39;, avg(overall)=4.571428571428571),\n",
       " Row(reviewerID=&#39;ACH1YOSGB89BC&#39;, avg(overall)=4.461538461538462),\n",
       " Row(reviewerID=&#39;A1G74Z1XW8A232&#39;, avg(overall)=4.2),\n",
       " Row(reviewerID=&#39;A18FUHNBP90IB4&#39;, avg(overall)=4.388888888888889),\n",
       " Row(reviewerID=&#39;A6K0OQAASKVWS&#39;, avg(overall)=4.4),\n",
       " Row(reviewerID=&#39;A34D2RZZ0AR94J&#39;, avg(overall)=5.0),\n",
       " Row(reviewerID=&#39;A2RI25U0F857W2&#39;, avg(overall)=5.0),\n",
       " Row(reviewerID=&#39;A2JVK2MNYE0KDF&#39;, avg(overall)=4.8),\n",
       " Row(reviewerID=&#39;A2GSJUETASGMO0&#39;, avg(overall)=4.25),\n",
       " Row(reviewerID=&#39;A3JT5SVYJC1LOL&#39;, avg(overall)=4.8),\n",
       " Row(reviewerID=&#39;A3P8ZDHC7XSKSE&#39;, avg(overall)=4.0),\n",
       " Row(reviewerID=&#39;AYVCC1AOW44CF&#39;, avg(overall)=5.0),\n",
       " Row(reviewerID=&#39;AT9432LQSE1XU&#39;, avg(overall)=3.6),\n",
       " Row(reviewerID=&#39;A32PELI5X1U5I0&#39;, avg(overall)=3.8),\n",
       " Row(reviewerID=&#39;A1OC65ZR6VAWC8&#39;, avg(overall)=4.2),\n",
       " Row(reviewerID=&#39;A2FITEUON78PY7&#39;, avg(overall)=4.5),\n",
       " Row(reviewerID=&#39;A28YTJGIZY277M&#39;, avg(overall)=4.428571428571429),\n",
       " Row(reviewerID=&#39;A3W1MME1EGV4ID&#39;, avg(overall)=3.2),\n",
       " Row(reviewerID=&#39;A8KCND0ONAPGF&#39;, avg(overall)=3.8333333333333335),\n",
       " Row(reviewerID=&#39;A1BTS3E7A1T88J&#39;, avg(overall)=3.4),\n",
       " Row(reviewerID=&#39;A7CRWATHSYO2L&#39;, avg(overall)=5.0),\n",
       " Row(reviewerID=&#39;A1PI477JJP2HOK&#39;, avg(overall)=4.6),\n",
       " Row(reviewerID=&#39;A2ADYE01WEJ1V&#39;, avg(overall)=5.0),\n",
       " Row(reviewerID=&#39;A2GSZ4ASQZQDNM&#39;, avg(overall)=5.0),\n",
       " Row(reviewerID=&#39;A1Z3EJN4WCSAV4&#39;, avg(overall)=4.6),\n",
       " Row(reviewerID=&#39;A27JSZ27B3FORW&#39;, avg(overall)=4.2),\n",
       " Row(reviewerID=&#39;A2F7XU97CYFHDY&#39;, avg(overall)=4.4),\n",
       " Row(reviewerID=&#39;A3CVOTOEF67QB7&#39;, avg(overall)=4.0),\n",
       " Row(reviewerID=&#39;AI77Y75ADYV39&#39;, avg(overall)=5.0),\n",
       " Row(reviewerID=&#39;A1OL7RJ5YEFYD&#39;, avg(overall)=4.428571428571429),\n",
       " Row(reviewerID=&#39;A1UT9GJI871281&#39;, avg(overall)=5.0),\n",
       " Row(reviewerID=&#39;A286RTX7LFZSJQ&#39;, avg(overall)=4.888888888888889),\n",
       " Row(reviewerID=&#39;A3V4XZQXW7PZ20&#39;, avg(overall)=5.0),\n",
       " Row(reviewerID=&#39;A14JCJGC2QL0MR&#39;, avg(overall)=5.0),\n",
       " Row(reviewerID=&#39;A2DMTT8RFDWS3N&#39;, avg(overall)=4.428571428571429),\n",
       " Row(reviewerID=&#39;A22CW0ZHY3NJH8&#39;, avg(overall)=4.171428571428572),\n",
       " Row(reviewerID=&#39;A20YF75XYVEMBG&#39;, avg(overall)=4.625),\n",
       " Row(reviewerID=&#39;AEJERMNDEYMF6&#39;, avg(overall)=5.0),\n",
       " Row(reviewerID=&#39;A10WBU7X288RZY&#39;, avg(overall)=4.166666666666667),\n",
       " Row(reviewerID=&#39;ANGGST8QOYORC&#39;, avg(overall)=5.0),\n",
       " Row(reviewerID=&#39;A1G6Z363WYCX7V&#39;, avg(overall)=4.75),\n",
       " Row(reviewerID=&#39;ATS2855497V0I&#39;, avg(overall)=3.8333333333333335),\n",
       " Row(reviewerID=&#39;A1YTDEXE0IV1J2&#39;, avg(overall)=3.142857142857143),\n",
       " Row(reviewerID=&#39;A3G6ONPNHKPP0C&#39;, avg(overall)=4.5),\n",
       " Row(reviewerID=&#39;A1FUIG2K1XRN05&#39;, avg(overall)=4.75),\n",
       " Row(reviewerID=&#39;A3QO4VXCK8HLU9&#39;, avg(overall)=2.5555555555555554),\n",
       " Row(reviewerID=&#39;AE62182ZKLN85&#39;, avg(overall)=4.909090909090909),\n",
       " Row(reviewerID=&#39;A3I2HXC9AK4DLL&#39;, avg(overall)=4.75),\n",
       " Row(reviewerID=&#39;A24E43AQ52W73N&#39;, avg(overall)=3.3333333333333335),\n",
       " Row(reviewerID=&#39;A177ZEKMW4URLK&#39;, avg(overall)=4.161290322580645),\n",
       " Row(reviewerID=&#39;A3L6XHA5FVMN16&#39;, avg(overall)=4.928571428571429),\n",
       " Row(reviewerID=&#39;A3M2U2803IED3X&#39;, avg(overall)=4.0),\n",
       " Row(reviewerID=&#39;A24PNVLQKEOZ2N&#39;, avg(overall)=4.363636363636363),\n",
       " Row(reviewerID=&#39;A1BOJ3936IE1E0&#39;, avg(overall)=4.5),\n",
       " Row(reviewerID=&#39;A76W6TNTKOL3L&#39;, avg(overall)=4.05),\n",
       " Row(reviewerID=&#39;A1NAQ15MEDYW2K&#39;, avg(overall)=4.333333333333333),\n",
       " Row(reviewerID=&#39;A37SIZ7YQKYY8A&#39;, avg(overall)=4.875),\n",
       " Row(reviewerID=&#39;A1F86CLPN2CQ8I&#39;, avg(overall)=3.5555555555555554),\n",
       " Row(reviewerID=&#39;ATCFLWS85POA0&#39;, avg(overall)=4.8),\n",
       " Row(reviewerID=&#39;A1K90D8M82NIEG&#39;, avg(overall)=4.166666666666667),\n",
       " Row(reviewerID=&#39;A3DYBTW1TEZL3M&#39;, avg(overall)=4.538461538461538),\n",
       " Row(reviewerID=&#39;A1VLQ56SGOAUUK&#39;, avg(overall)=5.0),\n",
       " Row(reviewerID=&#39;A3U4GW06XNSI2Q&#39;, avg(overall)=3.782608695652174),\n",
       " Row(reviewerID=&#39;A278A667ICAYTS&#39;, avg(overall)=3.0),\n",
       " Row(reviewerID=&#39;A3AY01PUHID1PR&#39;, avg(overall)=4.7272727272727275),\n",
       " Row(reviewerID=&#39;A304GDTPL2UX7O&#39;, avg(overall)=4.666666666666667),\n",
       " Row(reviewerID=&#39;A26OI2JXIVZ5WZ&#39;, avg(overall)=4.4),\n",
       " Row(reviewerID=&#39;A12EB7IZDG04I0&#39;, avg(overall)=4.4),\n",
       " Row(reviewerID=&#39;A1LOENXGC0WRI2&#39;, avg(overall)=4.285714285714286),\n",
       " Row(reviewerID=&#39;A2FF8W2TQ7320J&#39;, avg(overall)=5.0),\n",
       " Row(reviewerID=&#39;A1FZEF8I333XS7&#39;, avg(overall)=4.333333333333333),\n",
       " Row(reviewerID=&#39;A1ENPEA9KLM6AJ&#39;, avg(overall)=3.8),\n",
       " Row(reviewerID=&#39;A3EF8R7LHJZC5S&#39;, avg(overall)=4.5),\n",
       "\n",
       "*** WARNING: skipped 8006 bytes of output ***\n",
       "\n",
       " Row(reviewerID=&#39;A3A4HEP9YV8NAM&#39;, avg(overall)=4.666666666666667),\n",
       " Row(reviewerID=&#39;A105S56ODHGJEK&#39;, avg(overall)=3.588235294117647),\n",
       " Row(reviewerID=&#39;A31FL8I2C1WV32&#39;, avg(overall)=4.75),\n",
       " Row(reviewerID=&#39;A284GFG9CIUW1P&#39;, avg(overall)=4.0),\n",
       " Row(reviewerID=&#39;AMVGQ51QHKB8O&#39;, avg(overall)=4.5),\n",
       " Row(reviewerID=&#39;A9PAC5VFTDQHF&#39;, avg(overall)=3.5),\n",
       " Row(reviewerID=&#39;A2YS9A1EZFRU28&#39;, avg(overall)=4.833333333333333),\n",
       " Row(reviewerID=&#39;A3MG88JGBACVUK&#39;, avg(overall)=4.4),\n",
       " Row(reviewerID=&#39;A7H4I79GNOJ2U&#39;, avg(overall)=4.647058823529412),\n",
       " Row(reviewerID=&#39;A2ZKGN4ZHX72NS&#39;, avg(overall)=4.6),\n",
       " Row(reviewerID=&#39;AXIUZHSH45Q4S&#39;, avg(overall)=3.0),\n",
       " Row(reviewerID=&#39;A19I5EON4RHOUM&#39;, avg(overall)=4.5),\n",
       " Row(reviewerID=&#39;AJEDVT3OSUZCF&#39;, avg(overall)=4.375),\n",
       " Row(reviewerID=&#39;A1ZVFCPHCWFV71&#39;, avg(overall)=3.5625),\n",
       " Row(reviewerID=&#39;A1KM83BPOVAC4Q&#39;, avg(overall)=2.8),\n",
       " Row(reviewerID=&#39;A1Q57GEGDR4PYE&#39;, avg(overall)=4.666666666666667),\n",
       " Row(reviewerID=&#39;A2KMMT6KLYAFFF&#39;, avg(overall)=5.0),\n",
       " Row(reviewerID=&#39;AMOYMAQWX70P2&#39;, avg(overall)=4.583333333333333),\n",
       " Row(reviewerID=&#39;A1L2JFLTH89ROQ&#39;, avg(overall)=4.8),\n",
       " Row(reviewerID=&#39;ATY8RHJ9WHIW7&#39;, avg(overall)=5.0),\n",
       " Row(reviewerID=&#39;A1ID0AUZ7IPWFD&#39;, avg(overall)=4.142857142857143),\n",
       " Row(reviewerID=&#39;A1PTBXZG04GT29&#39;, avg(overall)=4.426666666666667),\n",
       " Row(reviewerID=&#39;A1U7LS93I03MFW&#39;, avg(overall)=3.9411764705882355),\n",
       " Row(reviewerID=&#39;A1YYI151S7II10&#39;, avg(overall)=5.0),\n",
       " Row(reviewerID=&#39;A37PPLULHT6CFQ&#39;, avg(overall)=5.0),\n",
       " Row(reviewerID=&#39;A2E9Q3T876TQ6C&#39;, avg(overall)=4.428571428571429),\n",
       " Row(reviewerID=&#39;A1KLPS6P7UR631&#39;, avg(overall)=4.388888888888889),\n",
       " Row(reviewerID=&#39;A19B5KDA7UV254&#39;, avg(overall)=3.625),\n",
       " Row(reviewerID=&#39;AHNRUHTAB7W8T&#39;, avg(overall)=3.875),\n",
       " Row(reviewerID=&#39;AMTKZ0I5BOYZV&#39;, avg(overall)=4.4),\n",
       " Row(reviewerID=&#39;A1LPV8DN13DI8K&#39;, avg(overall)=4.2),\n",
       " Row(reviewerID=&#39;A1ZM4RXUG1JJVJ&#39;, avg(overall)=3.8),\n",
       " Row(reviewerID=&#39;A2LHZRF4LL2B5K&#39;, avg(overall)=4.2),\n",
       " Row(reviewerID=&#39;A32D3SIQGJX2SV&#39;, avg(overall)=4.117647058823529),\n",
       " Row(reviewerID=&#39;A1HGWDVO2XQR6H&#39;, avg(overall)=3.6),\n",
       " Row(reviewerID=&#39;AFNG8O2DXRCUV&#39;, avg(overall)=4.2),\n",
       " Row(reviewerID=&#39;A3T70YYLB0E713&#39;, avg(overall)=2.4285714285714284),\n",
       " Row(reviewerID=&#39;A5BTCX4IR4RLJ&#39;, avg(overall)=5.0),\n",
       " Row(reviewerID=&#39;A1J6Z9T0L4F4XR&#39;, avg(overall)=5.0),\n",
       " Row(reviewerID=&#39;A2C23YX3D9G68C&#39;, avg(overall)=4.8),\n",
       " Row(reviewerID=&#39;A32P4GUDL2CHQN&#39;, avg(overall)=5.0),\n",
       " Row(reviewerID=&#39;A9WT87JFYZ3A7&#39;, avg(overall)=4.0),\n",
       " Row(reviewerID=&#39;AL5QTZM5FIV4N&#39;, avg(overall)=4.6),\n",
       " Row(reviewerID=&#39;A2JSNRJV7DL5JZ&#39;, avg(overall)=4.672727272727273),\n",
       " Row(reviewerID=&#39;A1NW9T7VOB14ED&#39;, avg(overall)=4.1),\n",
       " Row(reviewerID=&#39;A2K8AP8PANEWEY&#39;, avg(overall)=5.0),\n",
       " Row(reviewerID=&#39;A1F6EPRVZ7C4Y3&#39;, avg(overall)=4.2),\n",
       " Row(reviewerID=&#39;A1NA2I8KSZCDUQ&#39;, avg(overall)=4.6),\n",
       " Row(reviewerID=&#39;A1GAEORWPBZ7DG&#39;, avg(overall)=4.333333333333333),\n",
       " Row(reviewerID=&#39;A32OJMOZ9Y1A8J&#39;, avg(overall)=4.571428571428571),\n",
       " Row(reviewerID=&#39;A3UWRQZV34509I&#39;, avg(overall)=4.777777777777778),\n",
       " Row(reviewerID=&#39;A2O9DG473F3C5&#39;, avg(overall)=4.8),\n",
       " Row(reviewerID=&#39;A2LXP91DF4WU0N&#39;, avg(overall)=5.0),\n",
       " Row(reviewerID=&#39;AX2JIK3L25TZH&#39;, avg(overall)=4.181818181818182),\n",
       " Row(reviewerID=&#39;A9IFSLWBJ2ATQ&#39;, avg(overall)=4.875),\n",
       " Row(reviewerID=&#39;AXGGVMPYDHZIJ&#39;, avg(overall)=5.0),\n",
       " Row(reviewerID=&#39;A3ULFNK26FDZTI&#39;, avg(overall)=4.2),\n",
       " Row(reviewerID=&#39;A1L85O96S49ID9&#39;, avg(overall)=3.25),\n",
       " Row(reviewerID=&#39;A3TI5428I2SDRE&#39;, avg(overall)=5.0),\n",
       " Row(reviewerID=&#39;A35TUDKSX53ET8&#39;, avg(overall)=5.0),\n",
       " Row(reviewerID=&#39;ARGY5ZC6FD40P&#39;, avg(overall)=3.6666666666666665),\n",
       " Row(reviewerID=&#39;ASEMV95I6RNXD&#39;, avg(overall)=4.0),\n",
       " Row(reviewerID=&#39;A2GY0TMHXYD5LU&#39;, avg(overall)=5.0),\n",
       " Row(reviewerID=&#39;A3P2D0B50DXXDS&#39;, avg(overall)=4.6),\n",
       " Row(reviewerID=&#39;A27Q395KS99KOB&#39;, avg(overall)=4.222222222222222),\n",
       " Row(reviewerID=&#39;A35HRL8YD8R7MV&#39;, avg(overall)=4.4),\n",
       " Row(reviewerID=&#39;A389ZIW141LE50&#39;, avg(overall)=4.4),\n",
       " Row(reviewerID=&#39;A3VI8SM7GH1W50&#39;, avg(overall)=4.4),\n",
       " Row(reviewerID=&#39;A15FLIW5C7UBRV&#39;, avg(overall)=4.363636363636363),\n",
       " Row(reviewerID=&#39;A2F35SS0RKWSO2&#39;, avg(overall)=4.0),\n",
       " Row(reviewerID=&#39;A1YTPPAOQFM5VZ&#39;, avg(overall)=3.6),\n",
       " Row(reviewerID=&#39;A2NDF1PEF8ZV3&#39;, avg(overall)=4.75),\n",
       " Row(reviewerID=&#39;AHJ7KGB90Z0NX&#39;, avg(overall)=2.4),\n",
       " Row(reviewerID=&#39;A3VROBBFXDL9YY&#39;, avg(overall)=4.714285714285714),\n",
       " Row(reviewerID=&#39;A1XBA0PXTDMRTI&#39;, avg(overall)=5.0),\n",
       " Row(reviewerID=&#39;A13TVF86XC4O42&#39;, avg(overall)=4.666666666666667),\n",
       " Row(reviewerID=&#39;AW3RWY15N3L58&#39;, avg(overall)=4.428571428571429),\n",
       " Row(reviewerID=&#39;A2C46HQIZLYJUC&#39;, avg(overall)=3.8),\n",
       " Row(reviewerID=&#39;A1ZYLWX4XYONKK&#39;, avg(overall)=4.4),\n",
       " Row(reviewerID=&#39;A31HR32Y8GPWX7&#39;, avg(overall)=4.8),\n",
       " Row(reviewerID=&#39;A3O8TYUVCU7ZDB&#39;, avg(overall)=4.6),\n",
       " Row(reviewerID=&#39;A3FF8OTS5XYTPR&#39;, avg(overall)=3.6),\n",
       " Row(reviewerID=&#39;A3ITP8ZBMZ2TL0&#39;, avg(overall)=4.666666666666667),\n",
       " Row(reviewerID=&#39;A2PLWER3W9YC4S&#39;, avg(overall)=3.25),\n",
       " Row(reviewerID=&#39;ANCIPD8WMFVFW&#39;, avg(overall)=4.6),\n",
       " Row(reviewerID=&#39;A3E2LKAS63ATZN&#39;, avg(overall)=5.0),\n",
       " Row(reviewerID=&#39;A38JVP8Y9TQ8GS&#39;, avg(overall)=3.2),\n",
       " Row(reviewerID=&#39;A21BVL7PKG9BX8&#39;, avg(overall)=4.0),\n",
       " Row(reviewerID=&#39;ALMP44RB15CHJ&#39;, avg(overall)=3.1),\n",
       " Row(reviewerID=&#39;A164O47CXA68XZ&#39;, avg(overall)=5.0),\n",
       " Row(reviewerID=&#39;A3JGCTQT4H9TSS&#39;, avg(overall)=4.6),\n",
       " Row(reviewerID=&#39;A1YNSXMIBMQ7UO&#39;, avg(overall)=3.8),\n",
       " Row(reviewerID=&#39;A22KRLNQE081Y6&#39;, avg(overall)=4.4),\n",
       " Row(reviewerID=&#39;A2T61DILLRUPOE&#39;, avg(overall)=4.8),\n",
       " Row(reviewerID=&#39;A1VTUS3U85L9VV&#39;, avg(overall)=4.8),\n",
       " Row(reviewerID=&#39;A3EXWV8FNSSFL6&#39;, avg(overall)=4.476190476190476),\n",
       " Row(reviewerID=&#39;A28UBI340176A2&#39;, avg(overall)=5.0),\n",
       " Row(reviewerID=&#39;A30VCWUTDXT917&#39;, avg(overall)=4.571428571428571),\n",
       " Row(reviewerID=&#39;A21TV38981DF2B&#39;, avg(overall)=5.0),\n",
       " Row(reviewerID=&#39;A22FF2UDE62RW2&#39;, avg(overall)=4.5),\n",
       " Row(reviewerID=&#39;A2SRJ3UO5MKSGX&#39;, avg(overall)=4.142857142857143),\n",
       " Row(reviewerID=&#39;A3SH5VIFP3HOZP&#39;, avg(overall)=4.4),\n",
       " Row(reviewerID=&#39;A5IBE1K8ESVB2&#39;, avg(overall)=4.166666666666667),\n",
       " Row(reviewerID=&#39;AP0KGISWXXZ8G&#39;, avg(overall)=4.285714285714286),\n",
       " Row(reviewerID=&#39;A1Q813RS7W6FLW&#39;, avg(overall)=4.6),\n",
       " Row(reviewerID=&#39;A2QFOS6ID72QGX&#39;, avg(overall)=4.2),\n",
       " Row(reviewerID=&#39;AML5JLIMUPWGW&#39;, avg(overall)=4.2),\n",
       " Row(reviewerID=&#39;AEIW1FJIHIGZP&#39;, avg(overall)=5.0),\n",
       " Row(reviewerID=&#39;A7QPT76IH03UH&#39;, avg(overall)=5.0),\n",
       " Row(reviewerID=&#39;A2CMETO9TY0M7J&#39;, avg(overall)=4.4),\n",
       " Row(reviewerID=&#39;A3DIDEUX0W5VT6&#39;, avg(overall)=2.6),\n",
       " Row(reviewerID=&#39;AYAL91PGH2UXX&#39;, avg(overall)=4.125),\n",
       " Row(reviewerID=&#39;A115W6MM9ILLK0&#39;, avg(overall)=5.0),\n",
       " Row(reviewerID=&#39;A2LUZ5VU5HDZLN&#39;, avg(overall)=4.666666666666667),\n",
       " Row(reviewerID=&#39;A3Q99KOV47QSCU&#39;, avg(overall)=5.0),\n",
       " Row(reviewerID=&#39;A2DKN6KK67HP7P&#39;, avg(overall)=5.0),\n",
       " Row(reviewerID=&#39;A2JK8WHJP2DO46&#39;, avg(overall)=4.333333333333333),\n",
       " Row(reviewerID=&#39;A2XK009VM3OBG7&#39;, avg(overall)=3.6),\n",
       " Row(reviewerID=&#39;A5XKEQXVQJTVJ&#39;, avg(overall)=4.4),\n",
       " Row(reviewerID=&#39;A1OS8ICUFW5F9H&#39;, avg(overall)=4.857142857142857),\n",
       " Row(reviewerID=&#39;A100UD67AHFODS&#39;, avg(overall)=5.0),\n",
       " Row(reviewerID=&#39;A1OE9URA2SR2SX&#39;, avg(overall)=4.3),\n",
       " Row(reviewerID=&#39;A3DEMJM66762AA&#39;, avg(overall)=4.666666666666667),\n",
       " Row(reviewerID=&#39;A3S4U2HQRFURC8&#39;, avg(overall)=3.8333333333333335),\n",
       " Row(reviewerID=&#39;A23H9VPJ777NHN&#39;, avg(overall)=5.0),\n",
       " Row(reviewerID=&#39;A2ABD98ZH6F230&#39;, avg(overall)=4.2),\n",
       " Row(reviewerID=&#39;A333PLXUB7CDB0&#39;, avg(overall)=3.7142857142857144),\n",
       " Row(reviewerID=&#39;A1B80MBF94GNBC&#39;, avg(overall)=3.2),\n",
       " Row(reviewerID=&#39;ADUIFGJE9I7GA&#39;, avg(overall)=4.333333333333333),\n",
       " Row(reviewerID=&#39;AU0S2Z7BA22V5&#39;, avg(overall)=3.8),\n",
       " Row(reviewerID=&#39;A1EMDSI9Y3MUQ1&#39;, avg(overall)=4.571428571428571),\n",
       " Row(reviewerID=&#39;A2LQZOEL0E72H8&#39;, avg(overall)=5.0),\n",
       " Row(reviewerID=&#39;A34LNM3QX070HL&#39;, avg(overall)=4.285714285714286),\n",
       " Row(reviewerID=&#39;A10Z2H34E2KJFE&#39;, avg(overall)=4.2727272727272725),\n",
       " Row(reviewerID=&#39;A2MAG7BIDRQTF8&#39;, avg(overall)=4.65),\n",
       " Row(reviewerID=&#39;AU11R9QF65EH3&#39;, avg(overall)=4.8),\n",
       " Row(reviewerID=&#39;AJ91AOCHHUOPO&#39;, avg(overall)=4.857142857142857),\n",
       " Row(reviewerID=&#39;A2WW57XX2UVLM6&#39;, avg(overall)=4.099337748344371),\n",
       " Row(reviewerID=&#39;A34AZ7SNO4ZQ6C&#39;, avg(overall)=4.6),\n",
       " Row(reviewerID=&#39;APRZYUE21E7HP&#39;, avg(overall)=4.8),\n",
       " Row(reviewerID=&#39;A19E959HQACRZQ&#39;, avg(overall)=4.5),\n",
       " Row(reviewerID=&#39;A3C4VSLX0MHEQC&#39;, avg(overall)=5.0),\n",
       " Row(reviewerID=&#39;A3D27FSC1OZPN&#39;, avg(overall)=4.285714285714286),\n",
       " Row(reviewerID=&#39;A1J1EMCU26L778&#39;, avg(overall)=4.333333333333333),\n",
       " Row(reviewerID=&#39;A2WCA2GRF78DWN&#39;, avg(overall)=4.857142857142857),\n",
       " Row(reviewerID=&#39;A2RRN14ZRKY1U5&#39;, avg(overall)=5.0),\n",
       " Row(reviewerID=&#39;A3KS3XYBP6YCFO&#39;, avg(overall)=4.6),\n",
       " Row(reviewerID=&#39;A1REILK6IRX5AZ&#39;, avg(overall)=4.6),\n",
       " Row(reviewerID=&#39;A1UIMH1A869JUV&#39;, avg(overall)=4.809523809523809),\n",
       " Row(reviewerID=&#39;A1Y77JWIKL0VM8&#39;, avg(overall)=4.666666666666667),\n",
       " Row(reviewerID=&#39;A2QW2WVN1Z4UA&#39;, avg(overall)=3.2857142857142856),\n",
       " Row(reviewerID=&#39;AWICKUT903RFL&#39;, avg(overall)=4.666666666666667),\n",
       " Row(reviewerID=&#39;A1YCHOANOM8ZPM&#39;, avg(overall)=3.8),\n",
       " Row(reviewerID=&#39;A1OLV069VNBMK4&#39;, avg(overall)=4.166666666666667),\n",
       " Row(reviewerID=&#39;A1ZTGDHEKNO86M&#39;, avg(overall)=4.0),\n",
       " Row(reviewerID=&#39;AULDDIOHU5I60&#39;, avg(overall)=5.0),\n",
       " Row(reviewerID=&#39;A3P3X4WTM6WGRY&#39;, avg(overall)=3.5),\n",
       " Row(reviewerID=&#39;AQR89SGX4AYJX&#39;, avg(overall)=5.0),\n",
       " Row(reviewerID=&#39;A3AOSL63CYGPJE&#39;, avg(overall)=4.428571428571429),\n",
       " Row(reviewerID=&#39;A3NDUBKYPI47N2&#39;, avg(overall)=3.6875),\n",
       " Row(reviewerID=&#39;A31PKHBFFJDVF0&#39;, avg(overall)=4.666666666666667),\n",
       " Row(reviewerID=&#39;A1PN0NIH7NLC20&#39;, avg(overall)=4.8),\n",
       " Row(reviewerID=&#39;A1A9UE11NPRY6M&#39;, avg(overall)=4.111111111111111),\n",
       " Row(reviewerID=&#39;A2QL3P9YL7T0QC&#39;, avg(overall)=4.285714285714286),\n",
       " Row(reviewerID=&#39;A1VP3NQPR7WFN3&#39;, avg(overall)=5.0),\n",
       " Row(reviewerID=&#39;A1NA5HLVEYW8RL&#39;, avg(overall)=4.714285714285714),\n",
       " Row(reviewerID=&#39;AYOND4ODQI2VQ&#39;, avg(overall)=3.4),\n",
       " Row(reviewerID=&#39;A3JXBZ8F65100O&#39;, avg(overall)=4.4),\n",
       " Row(reviewerID=&#39;A16KOGAQ8NXPXZ&#39;, avg(overall)=4.4),\n",
       " Row(reviewerID=&#39;A1TJYTYOILKAMD&#39;, avg(overall)=4.2),\n",
       " Row(reviewerID=&#39;AFO678EAGH4Y9&#39;, avg(overall)=4.0588235294117645),\n",
       " Row(reviewerID=&#39;A6UVUMRPL86B1&#39;, avg(overall)=4.0),\n",
       " Row(reviewerID=&#39;AJ7OHHOB7598I&#39;, avg(overall)=4.8),\n",
       " Row(reviewerID=&#39;A3NLQWUUML5S7F&#39;, avg(overall)=5.0),\n",
       " Row(reviewerID=&#39;A2X1ZCVGXO0EUA&#39;, avg(overall)=3.8),\n",
       " Row(reviewerID=&#39;A3TDX0YCPFP8CD&#39;, avg(overall)=3.6),\n",
       " Row(reviewerID=&#39;AG1ELQC8M7CVP&#39;, avg(overall)=4.333333333333333),\n",
       " Row(reviewerID=&#39;AJTTYAEL80K38&#39;, avg(overall)=2.8),\n",
       " Row(reviewerID=&#39;A2HM8BRW0GC1ZV&#39;, avg(overall)=4.0),\n",
       " Row(reviewerID=&#39;A14S3YSE9KR9MS&#39;, avg(overall)=4.875),\n",
       " Row(reviewerID=&#39;AIOSCTU0MQIWT&#39;, avg(overall)=4.333333333333333),\n",
       " Row(reviewerID=&#39;AZY33L9MH0CKK&#39;, avg(overall)=5.0),\n",
       " Row(reviewerID=&#39;A1138UIXWPX63A&#39;, avg(overall)=4.2),\n",
       " Row(reviewerID=&#39;A3E3NEILYCO7DA&#39;, avg(overall)=5.0),\n",
       " Row(reviewerID=&#39;AWP374BL7EGZL&#39;, avg(overall)=5.0),\n",
       " Row(reviewerID=&#39;A1ZJVUQX60WABO&#39;, avg(overall)=4.444444444444445),\n",
       " Row(reviewerID=&#39;A3J9A3S87VFMLM&#39;, avg(overall)=4.769230769230769),\n",
       " Row(reviewerID=&#39;A3AXE9X0AW61VZ&#39;, avg(overall)=3.2),\n",
       " Row(reviewerID=&#39;A2P586GGNSJPOL&#39;, avg(overall)=5.0),\n",
       " Row(reviewerID=&#39;A2K1BWGPFJX9E6&#39;, avg(overall)=4.6),\n",
       " Row(reviewerID=&#39;A24F385BETBP4N&#39;, avg(overall)=4.833333333333333),\n",
       " Row(reviewerID=&#39;A1DP5M6MBBB37W&#39;, avg(overall)=3.2),\n",
       " Row(reviewerID=&#39;A3F7RM3DNUJ5RO&#39;, avg(overall)=3.0),\n",
       " Row(reviewerID=&#39;A8D6DK0HEM8EU&#39;, avg(overall)=4.833333333333333),\n",
       " Row(reviewerID=&#39;A3PP0YU97UZ203&#39;, avg(overall)=5.0),\n",
       " Row(reviewerID=&#39;A1F9K10Y89QHVC&#39;, avg(overall)=4.4),\n",
       " Row(reviewerID=&#39;A19XMHRB3G4DIR&#39;, avg(overall)=4.625),\n",
       " Row(reviewerID=&#39;A2603EW1PVK36H&#39;, avg(overall)=5.0),\n",
       " Row(reviewerID=&#39;AE9H83YV1VU2G&#39;, avg(overall)=3.857142857142857),\n",
       " Row(reviewerID=&#39;A3KPZX7AM2ZYC5&#39;, avg(overall)=3.8333333333333335),\n",
       " Row(reviewerID=&#39;A2C70UNG6G6KVT&#39;, avg(overall)=4.285714285714286),\n",
       " Row(reviewerID=&#39;A2Z44ZFSTKEATX&#39;, avg(overall)=4.6),\n",
       " Row(reviewerID=&#39;A24GMQB0ES1VAI&#39;, avg(overall)=5.0),\n",
       " Row(reviewerID=&#39;A312UBIOP091MH&#39;, avg(overall)=3.6666666666666665),\n",
       " Row(reviewerID=&#39;A2WV2USJOJXO7N&#39;, avg(overall)=4.6),\n",
       " Row(reviewerID=&#39;A35JHPMSVAITAS&#39;, avg(overall)=4.2),\n",
       " Row(reviewerID=&#39;AVZVUAW281GV4&#39;, avg(overall)=4.2),\n",
       " Row(reviewerID=&#39;AINI7U6PRU3ZB&#39;, avg(overall)=5.0),\n",
       " Row(reviewerID=&#39;AOIF9ILHW5TAG&#39;, avg(overall)=4.2),\n",
       " Row(reviewerID=&#39;A21DE4YNQQ4IZ2&#39;, avg(overall)=5.0),\n",
       " Row(reviewerID=&#39;A2O2822VQN2HFG&#39;, avg(overall)=4.4),\n",
       " Row(reviewerID=&#39;A34U85WY8ZWBPV&#39;, avg(overall)=5.0),\n",
       " Row(reviewerID=&#39;A3DROFPG78LZHU&#39;, avg(overall)=4.166666666666667),\n",
       " Row(reviewerID=&#39;A2SSYPHOI6EIJE&#39;, avg(overall)=3.142857142857143),\n",
       " Row(reviewerID=&#39;A3TF4C0NG13ZYF&#39;, avg(overall)=4.6),\n",
       " Row(reviewerID=&#39;A1RGUUSXEVSLFF&#39;, avg(overall)=5.0),\n",
       " Row(reviewerID=&#39;A3M6I2ZQ9KTPKH&#39;, avg(overall)=4.2),\n",
       " Row(reviewerID=&#39;A37YW8AYLS72LR&#39;, avg(overall)=5.0),\n",
       " Row(reviewerID=&#39;A3RR2P5IS3DGPR&#39;, avg(overall)=4.6),\n",
       " Row(reviewerID=&#39;A3SDSDKRCFVH9P&#39;, avg(overall)=4.2),\n",
       " Row(reviewerID=&#39;A3I4H0OVHG3MCB&#39;, avg(overall)=4.166666666666667),\n",
       " Row(reviewerID=&#39;A1O2QIQK2OR5TC&#39;, avg(overall)=4.166666666666667),\n",
       " Row(reviewerID=&#39;A3EBO09L87L2UD&#39;, avg(overall)=4.6),\n",
       " Row(reviewerID=&#39;A1LMRAHIKDDX6K&#39;, avg(overall)=4.5),\n",
       " Row(reviewerID=&#39;A146J614ZNX0BT&#39;, avg(overall)=3.6),\n",
       " Row(reviewerID=&#39;A30S2XWHFQZ8X0&#39;, avg(overall)=3.962962962962963),\n",
       " Row(reviewerID=&#39;AXAPYPM2S13MF&#39;, avg(overall)=4.125),\n",
       " Row(reviewerID=&#39;A1NVZNIM4F2LIW&#39;, avg(overall)=4.5),\n",
       " Row(reviewerID=&#39;A2IXAIARL0CDY7&#39;, avg(overall)=3.9285714285714284),\n",
       " Row(reviewerID=&#39;A3Q9HY0LU7MN6E&#39;, avg(overall)=4.454545454545454),\n",
       " Row(reviewerID=&#39;A1K7RG0AT4I3DN&#39;, avg(overall)=3.4),\n",
       " Row(reviewerID=&#39;A1VF5HRCDF99CF&#39;, avg(overall)=4.8),\n",
       " Row(reviewerID=&#39;A9CBIYEOIRAXZ&#39;, avg(overall)=4.533333333333333),\n",
       " Row(reviewerID=&#39;ASDG1LT7CKT8Y&#39;, avg(overall)=4.5),\n",
       " Row(reviewerID=&#39;A3GVXL028FFXMW&#39;, avg(overall)=4.666666666666667),\n",
       " Row(reviewerID=&#39;A1LF4B95IG0PEQ&#39;, avg(overall)=3.4444444444444446),\n",
       " Row(reviewerID=&#39;A25XU1RT0DJI3&#39;, avg(overall)=4.666666666666667),\n",
       " Row(reviewerID=&#39;A3POM5GPI6OW9W&#39;, avg(overall)=4.75),\n",
       " Row(reviewerID=&#39;A35YEBMA8C02G9&#39;, avg(overall)=4.4),\n",
       " Row(reviewerID=&#39;A3QUG39UDJOPNB&#39;, avg(overall)=5.0),\n",
       " Row(reviewerID=&#39;AS848NI1BHSJB&#39;, avg(overall)=5.0),\n",
       " Row(reviewerID=&#39;A2XNKMGEYHLUK7&#39;, avg(overall)=4.0),\n",
       " Row(reviewerID=&#39;AG71XMQGQ2UTJ&#39;, avg(overall)=4.5),\n",
       " Row(reviewerID=&#39;ACR9ES55PCMHO&#39;, avg(overall)=4.133333333333334),\n",
       " Row(reviewerID=&#39;A1Q1MUK0E5LI1C&#39;, avg(overall)=5.0),\n",
       " Row(reviewerID=&#39;A1EN93VM9A31F0&#39;, avg(overall)=4.333333333333333),\n",
       " Row(reviewerID=&#39;APEFTKKE05ARH&#39;, avg(overall)=3.888888888888889),\n",
       " Row(reviewerID=&#39;A267YDFDZKKQWN&#39;, avg(overall)=5.0),\n",
       " Row(reviewerID=&#39;A17R3NJ8FG9PMD&#39;, avg(overall)=4.4),\n",
       " Row(reviewerID=&#39;AOXMWBNDZDJ9L&#39;, avg(overall)=4.157894736842105),\n",
       " Row(reviewerID=&#39;A3F69LY1QJ7I5Y&#39;, avg(overall)=4.571428571428571),\n",
       " Row(reviewerID=&#39;A1DNWA98IV5PMW&#39;, avg(overall)=4.4375),\n",
       " Row(reviewerID=&#39;A358N3LX6TVGRP&#39;, avg(overall)=3.0),\n",
       " Row(reviewerID=&#39;ARHFY2I738P1H&#39;, avg(overall)=5.0),\n",
       " Row(reviewerID=&#39;AZXISKB1BMFHG&#39;, avg(overall)=4.222222222222222),\n",
       " Row(reviewerID=&#39;A1RW8298N7K6JM&#39;, avg(overall)=3.75),\n",
       " Row(reviewerID=&#39;AL9AIKY39N66E&#39;, avg(overall)=4.666666666666667),\n",
       " Row(reviewerID=&#39;AG18Z04BT9WZY&#39;, avg(overall)=4.928571428571429),\n",
       " Row(reviewerID=&#39;A1P354IBQL8838&#39;, avg(overall)=4.5),\n",
       " Row(reviewerID=&#39;A3HF5JQFIDXPF2&#39;, avg(overall)=4.375),\n",
       " Row(reviewerID=&#39;AWNWOMUT9HS2D&#39;, avg(overall)=2.857142857142857),\n",
       " Row(reviewerID=&#39;A1O6C8O4MVJFX4&#39;, avg(overall)=4.125),\n",
       " Row(reviewerID=&#39;A1B6QAAEE9VDIN&#39;, avg(overall)=4.75),\n",
       " Row(reviewerID=&#39;A1Q5GOPLE0XUN2&#39;, avg(overall)=4.8),\n",
       " Row(reviewerID=&#39;A336PDROMWEDWL&#39;, avg(overall)=4.6),\n",
       " Row(reviewerID=&#39;A3MNV91GLZ4LFC&#39;, avg(overall)=4.0),\n",
       " Row(reviewerID=&#39;A2ZBP1HELRKMHK&#39;, avg(overall)=3.875),\n",
       " Row(reviewerID=&#39;A2DA2NJZ2RIYAB&#39;, avg(overall)=5.0),\n",
       " Row(reviewerID=&#39;A2QRWTEAR9WBVB&#39;, avg(overall)=3.6),\n",
       " Row(reviewerID=&#39;A26OYXA4RGI0XH&#39;, avg(overall)=4.166666666666667),\n",
       " Row(reviewerID=&#39;A1FWTDVXH82XVR&#39;, avg(overall)=5.0),\n",
       " Row(reviewerID=&#39;A2X6QQHNTSKL1N&#39;, avg(overall)=4.333333333333333),\n",
       " Row(reviewerID=&#39;A153RS9Z63XYB7&#39;, avg(overall)=4.555555555555555),\n",
       " Row(reviewerID=&#39;A3T52FTJE0L7CZ&#39;, avg(overall)=3.5714285714285716),\n",
       " Row(reviewerID=&#39;A1OE0D4YFK8VXR&#39;, avg(overall)=4.6),\n",
       " Row(reviewerID=&#39;A3732PEAYKBERK&#39;, avg(overall)=5.0),\n",
       " Row(reviewerID=&#39;ACX47XOXQRIEA&#39;, avg(overall)=4.2),\n",
       " Row(reviewerID=&#39;A3A5A8EMLBRATX&#39;, avg(overall)=4.6),\n",
       " Row(reviewerID=&#39;AQGTTKWSMQ1V3&#39;, avg(overall)=4.0),\n",
       " Row(reviewerID=&#39;A150JNSC0KXI6R&#39;, avg(overall)=4.833333333333333),\n",
       " Row(reviewerID=&#39;A5P5J6B87XLIX&#39;, avg(overall)=4.5),\n",
       " Row(reviewerID=&#39;A2HV5D31Y2HE3C&#39;, avg(overall)=4.285714285714286),\n",
       " Row(reviewerID=&#39;AVBRP0CQKU3KD&#39;, avg(overall)=4.333333333333333),\n",
       " Row(reviewerID=&#39;A6HHN1BJB7PDO&#39;, avg(overall)=5.0),\n",
       " Row(reviewerID=&#39;A3KXOJMZWM00B3&#39;, avg(overall)=4.2),\n",
       " Row(reviewerID=&#39;A3W1R3R5SRFRRF&#39;, avg(overall)=3.4),\n",
       " Row(reviewerID=&#39;A2ZPZM9RE08JXF&#39;, avg(overall)=4.193548387096774),\n",
       " Row(reviewerID=&#39;A37I6BQMMGJA25&#39;, avg(overall)=4.6),\n",
       " Row(reviewerID=&#39;A492HXZOCVUIJ&#39;, avg(overall)=3.8333333333333335),\n",
       " Row(reviewerID=&#39;ATYX9OQUEA95S&#39;, avg(overall)=3.2),\n",
       " Row(reviewerID=&#39;A1AD9GUL4O81UO&#39;, avg(overall)=4.9),\n",
       " Row(reviewerID=&#39;A2AVYK5WFCEPTK&#39;, avg(overall)=4.4),\n",
       " Row(reviewerID=&#39;A42P7MF5WOOD3&#39;, avg(overall)=5.0),\n",
       " Row(reviewerID=&#39;A3AEKP7DKBH6VD&#39;, avg(overall)=4.2727272727272725),\n",
       " Row(reviewerID=&#39;A1L92ACJ2Z9QGX&#39;, avg(overall)=5.0),\n",
       " Row(reviewerID=&#39;A1OEWDSPX827AC&#39;, avg(overall)=5.0),\n",
       " Row(reviewerID=&#39;A1KYXIBRJS2JE9&#39;, avg(overall)=4.8),\n",
       " Row(reviewerID=&#39;A299S5HUIWSL8F&#39;, avg(overall)=4.333333333333333),\n",
       " Row(reviewerID=&#39;AKV87H8H5TYQD&#39;, avg(overall)=5.0),\n",
       " Row(reviewerID=&#39;A2BSB3STRK5PNX&#39;, avg(overall)=5.0),\n",
       " Row(reviewerID=&#39;A2Q4T9O821K01&#39;, avg(overall)=4.0),\n",
       " Row(reviewerID=&#39;A2XLFCFWVF9CM7&#39;, avg(overall)=5.0),\n",
       " Row(reviewerID=&#39;A1KU2VHK8BECRW&#39;, avg(overall)=5.0),\n",
       " Row(reviewerID=&#39;A3KJ9UTP3TSDJW&#39;, avg(overall)=4.4),\n",
       " Row(reviewerID=&#39;A36JKZVAMNILLM&#39;, avg(overall)=4.833333333333333),\n",
       " Row(reviewerID=&#39;A3M5XCJDFIV21A&#39;, avg(overall)=5.0),\n",
       " Row(reviewerID=&#39;A2X5H9BL7ODHPU&#39;, avg(overall)=4.6875),\n",
       " Row(reviewerID=&#39;A36REAMRA19990&#39;, avg(overall)=3.3333333333333335),\n",
       " Row(reviewerID=&#39;A51S45THWS14B&#39;, avg(overall)=4.2),\n",
       " Row(reviewerID=&#39;A3EXW4HNYX7HF5&#39;, avg(overall)=4.142857142857143),\n",
       " Row(reviewerID=&#39;AJFM9BF445RBN&#39;, avg(overall)=4.571428571428571),\n",
       " Row(reviewerID=&#39;A3NUUJF2S2ZWAD&#39;, avg(overall)=3.75),\n",
       " Row(reviewerID=&#39;A24PA1A08KVVKP&#39;, avg(overall)=3.8),\n",
       " Row(reviewerID=&#39;A19GMEHMU9LAJ8&#39;, avg(overall)=1.8),\n",
       " Row(reviewerID=&#39;A34P0BUUAUYPOJ&#39;, avg(overall)=4.666666666666667),\n",
       " Row(reviewerID=&#39;A22YTQWCR52OIW&#39;, avg(overall)=5.0),\n",
       " Row(reviewerID=&#39;AG35PR4N22DCO&#39;, avg(overall)=4.285714285714286),\n",
       " Row(reviewerID=&#39;A3OS6WFBP6TAQU&#39;, avg(overall)=4.608695652173913),\n",
       " Row(reviewerID=&#39;A2K0H6HYH8WB5F&#39;, avg(overall)=4.181818181818182),\n",
       " Row(reviewerID=&#39;A1WBEIH7Z37LN9&#39;, avg(overall)=3.2142857142857144),\n",
       " Row(reviewerID=&#39;A3AR1P02BIZWA7&#39;, avg(overall)=4.666666666666667),\n",
       " Row(reviewerID=&#39;A2WCDPO01CDUHK&#39;, avg(overall)=5.0),\n",
       " Row(reviewerID=&#39;A15CL28ALB7MTZ&#39;, avg(overall)=4.111111111111111),\n",
       " Row(reviewerID=&#39;A2D6LG91QQC29B&#39;, avg(overall)=4.5),\n",
       " Row(reviewerID=&#39;A2W1UCDVRUQ43Q&#39;, avg(overall)=4.875),\n",
       " Row(reviewerID=&#39;APZMW24EELJ3M&#39;, avg(overall)=4.428571428571429),\n",
       " Row(reviewerID=&#39;AB18XNK97UF4X&#39;, avg(overall)=5.0),\n",
       " Row(reviewerID=&#39;A2A85Q3LH9QVBJ&#39;, avg(overall)=4.75),\n",
       " Row(reviewerID=&#39;A3MCMM13TRWXEM&#39;, avg(overall)=5.0),\n",
       " Row(reviewerID=&#39;A2Y771VL7HT81N&#39;, avg(overall)=3.8461538461538463),\n",
       " Row(reviewerID=&#39;A13M2OZU0IWFY8&#39;, avg(overall)=4.8),\n",
       " Row(reviewerID=&#39;A1JF5OSQSOS9NF&#39;, avg(overall)=4.666666666666667),\n",
       " Row(reviewerID=&#39;A30MXWKFWQBGQG&#39;, avg(overall)=5.0),\n",
       " Row(reviewerID=&#39;A3UBR469X3HQF9&#39;, avg(overall)=4.428571428571429),\n",
       " Row(reviewerID=&#39;AJHL7N62ROBOQ&#39;, avg(overall)=4.777777777777778),\n",
       " Row(reviewerID=&#39;A9RSMV1C8Y8FH&#39;, avg(overall)=4.857142857142857),\n",
       " Row(reviewerID=&#39;A3NQFZIPITICVV&#39;, avg(overall)=4.142857142857143),\n",
       " Row(reviewerID=&#39;A2E3SLY7H43FON&#39;, avg(overall)=4.545454545454546),\n",
       " Row(reviewerID=&#39;A2D7QUOA1L57P1&#39;, avg(overall)=4.111111111111111),\n",
       " Row(reviewerID=&#39;A226GFM0Q9L37H&#39;, avg(overall)=4.625),\n",
       " Row(reviewerID=&#39;A3QLXP2K8G37K6&#39;, avg(overall)=4.666666666666667),\n",
       " Row(reviewerID=&#39;AY12DBB0U420B&#39;, avg(overall)=4.45),\n",
       " Row(reviewerID=&#39;A29X5S2VA01LJH&#39;, avg(overall)=4.9),\n",
       " Row(reviewerID=&#39;A191SUKZKJP1BL&#39;, avg(overall)=5.0),\n",
       " Row(reviewerID=&#39;A1422V7OFLROL&#39;, avg(overall)=3.0),\n",
       " Row(reviewerID=&#39;A2VBTN6ZR67YOF&#39;, avg(overall)=4.428571428571429),\n",
       " Row(reviewerID=&#39;ABN7G2T0KAB3G&#39;, avg(overall)=5.0),\n",
       " Row(reviewerID=&#39;A2RMHCC4VPIQ60&#39;, avg(overall)=3.2857142857142856),\n",
       " Row(reviewerID=&#39;A3IMQSE3KFFKQR&#39;, avg(overall)=4.4),\n",
       " Row(reviewerID=&#39;AZECTOVTVA5Z4&#39;, avg(overall)=4.0),\n",
       " Row(reviewerID=&#39;A8UPF5VV5G3U2&#39;, avg(overall)=5.0),\n",
       " Row(reviewerID=&#39;A3RD21P8CL5KXA&#39;, avg(overall)=4.625),\n",
       " Row(reviewerID=&#39;A388FB0J7FWGZ9&#39;, avg(overall)=5.0),\n",
       " Row(reviewerID=&#39;A15YTNAXIJB4IT&#39;, avg(overall)=5.0),\n",
       " Row(reviewerID=&#39;A2WCDQ7MRLUVK7&#39;, avg(overall)=5.0),\n",
       " Row(reviewerID=&#39;A6NSFQI4COI9T&#39;, avg(overall)=4.3),\n",
       " Row(reviewerID=&#39;A17UZAAXZ3923D&#39;, avg(overall)=4.5),\n",
       " Row(reviewerID=&#39;A2BJVSHXM137RM&#39;, avg(overall)=4.8),\n",
       " Row(reviewerID=&#39;A30XONPUQRBKEN&#39;, avg(overall)=4.2),\n",
       " Row(reviewerID=&#39;AFZEOGWDNCGDW&#39;, avg(overall)=4.4),\n",
       " Row(reviewerID=&#39;A2IFOOAY7TJFAV&#39;, avg(overall)=4.285714285714286),\n",
       " Row(reviewerID=&#39;A2XU9QGZ68P1NZ&#39;, avg(overall)=4.4),\n",
       " Row(reviewerID=&#39;AKBB93IFVIFPL&#39;, avg(overall)=4.571428571428571),\n",
       " Row(reviewerID=&#39;A35IFMQKHFY59S&#39;, avg(overall)=4.666666666666667),\n",
       " Row(reviewerID=&#39;A28WQBBSTXC0VH&#39;, avg(overall)=4.0),\n",
       " Row(reviewerID=&#39;A3CB0ULFGQWCFF&#39;, avg(overall)=4.428571428571429),\n",
       " Row(reviewerID=&#39;AG8IYOQUU2E5P&#39;, avg(overall)=4.0),\n",
       " Row(reviewerID=&#39;A3JPYYQ769BYYL&#39;, avg(overall)=3.8333333333333335),\n",
       " Row(reviewerID=&#39;A1E54IUN90VXIE&#39;, avg(overall)=5.0),\n",
       " Row(reviewerID=&#39;A2TNHRF53LC9RT&#39;, avg(overall)=2.6),\n",
       " Row(reviewerID=&#39;A1J2ADAHIJS3N2&#39;, avg(overall)=5.0),\n",
       " Row(reviewerID=&#39;A3NV1LOXMR6F7K&#39;, avg(overall)=4.714285714285714),\n",
       " Row(reviewerID=&#39;A1FV2AIBKC8U1K&#39;, avg(overall)=4.8),\n",
       " Row(reviewerID=&#39;A383M6UZM4MC76&#39;, avg(overall)=4.6),\n",
       " Row(reviewerID=&#39;AF7MRK4CQWVXB&#39;, avg(overall)=4.615384615384615),\n",
       " Row(reviewerID=&#39;ALCP5UW9GADFI&#39;, avg(overall)=2.2),\n",
       " Row(reviewerID=&#39;A1AGUB4IUV7MFU&#39;, avg(overall)=3.4),\n",
       " Row(reviewerID=&#39;A3I47WIS3G3BPH&#39;, avg(overall)=3.7142857142857144),\n",
       " Row(reviewerID=&#39;A1CQ8RM067BZ9R&#39;, avg(overall)=4.769230769230769),\n",
       " Row(reviewerID=&#39;AKHFP1INL3F8L&#39;, avg(overall)=4.6),\n",
       " Row(reviewerID=&#39;A2930D229PEUUN&#39;, avg(overall)=4.555555555555555),\n",
       " Row(reviewerID=&#39;A3NG7X4APIV649&#39;, avg(overall)=3.875),\n",
       " Row(reviewerID=&#39;A3SPQTERXFOBPG&#39;, avg(overall)=4.833333333333333),\n",
       " Row(reviewerID=&#39;A1A0TG62X92HRS&#39;, avg(overall)=4.181818181818182),\n",
       " Row(reviewerID=&#39;A23HGW8U6954DF&#39;, avg(overall)=3.4),\n",
       " Row(reviewerID=&#39;AFDRXSX0IPUJY&#39;, avg(overall)=4.2),\n",
       " Row(reviewerID=&#39;A89KFOCKCO0OA&#39;, avg(overall)=5.0),\n",
       " Row(reviewerID=&#39;A35CYV5JWJETWX&#39;, avg(overall)=4.166666666666667),\n",
       " Row(reviewerID=&#39;A3CRPB56LTN26B&#39;, avg(overall)=4.6),\n",
       " Row(reviewerID=&#39;A261ZEKT6OATPN&#39;, avg(overall)=4.6),\n",
       " Row(reviewerID=&#39;A2C05OHYJERICI&#39;, avg(overall)=4.0),\n",
       " Row(reviewerID=&#39;A2EA3GGW19OUKQ&#39;, avg(overall)=5.0),\n",
       " Row(reviewerID=&#39;A1J9T48L93OAKW&#39;, avg(overall)=3.0),\n",
       " Row(reviewerID=&#39;A9LQOZ23Z3WD2&#39;, avg(overall)=4.333333333333333),\n",
       " Row(reviewerID=&#39;AQ1VEA1RAXMJM&#39;, avg(overall)=4.5),\n",
       " Row(reviewerID=&#39;A1IQ2BN84E9QA1&#39;, avg(overall)=4.142857142857143),\n",
       " Row(reviewerID=&#39;A3SYE6NEO8VSU0&#39;, avg(overall)=4.818181818181818),\n",
       " Row(reviewerID=&#39;A2LRYVW7J4VE3P&#39;, avg(overall)=5.0),\n",
       " Row(reviewerID=&#39;A21ILD991UM01T&#39;, avg(overall)=4.818181818181818),\n",
       " Row(reviewerID=&#39;A3CEUT263RNUDO&#39;, avg(overall)=3.7142857142857144),\n",
       " Row(reviewerID=&#39;A2SQ7DGBUIAUMT&#39;, avg(overall)=4.8),\n",
       " Row(reviewerID=&#39;A2TNEYVYHY3C4C&#39;, avg(overall)=3.625),\n",
       " Row(reviewerID=&#39;A32T2H8150OJLU&#39;, avg(overall)=4.428571428571429),\n",
       " Row(reviewerID=&#39;A17LDDK445B990&#39;, avg(overall)=4.105263157894737),\n",
       " Row(reviewerID=&#39;A1T825Y8S5BRQ3&#39;, avg(overall)=4.7),\n",
       " Row(reviewerID=&#39;AI7JKTUP68K3Y&#39;, avg(overall)=4.625),\n",
       " Row(reviewerID=&#39;A2LSXLLPQR6ZSN&#39;, avg(overall)=4.5),\n",
       " Row(reviewerID=&#39;A2D66KSHQQHOSD&#39;, avg(overall)=3.5),\n",
       " Row(reviewerID=&#39;A3LV06NUWRXQWF&#39;, avg(overall)=5.0),\n",
       " Row(reviewerID=&#39;A3B5YQ4VR080CN&#39;, avg(overall)=5.0),\n",
       " Row(reviewerID=&#39;A30EPFRLFA5P92&#39;, avg(overall)=4.2),\n",
       " Row(reviewerID=&#39;A2LW5AL0KQ9P1M&#39;, avg(overall)=3.2941176470588234),\n",
       " Row(reviewerID=&#39;AVEK552RPANBO&#39;, avg(overall)=4.866666666666666),\n",
       " Row(reviewerID=&#39;A2VCXIAWCPQ13P&#39;, avg(overall)=3.85),\n",
       " Row(reviewerID=&#39;A2NM06Q2PZP2MC&#39;, avg(overall)=4.055555555555555),\n",
       " Row(reviewerID=&#39;A3HMJ0VUTM1XZT&#39;, avg(overall)=5.0),\n",
       " Row(reviewerID=&#39;A2L63MQL7HNX3B&#39;, avg(overall)=4.8),\n",
       " Row(reviewerID=&#39;A2KUM04O2ZAB6E&#39;, avg(overall)=4.2),\n",
       " Row(reviewerID=&#39;A1LWIO81Z3NLBX&#39;, avg(overall)=4.5),\n",
       " Row(reviewerID=&#39;A34SU2YNXOMCSG&#39;, avg(overall)=5.0),\n",
       " Row(reviewerID=&#39;A1RR8MILLMBI8N&#39;, avg(overall)=4.666666666666667),\n",
       " Row(reviewerID=&#39;A3171W06FF8EE6&#39;, avg(overall)=4.2),\n",
       " Row(reviewerID=&#39;A16ZFIHH9QSC0E&#39;, avg(overall)=4.428571428571429),\n",
       " Row(reviewerID=&#39;A1Q9UVHD2PGCVU&#39;, avg(overall)=4.851063829787234),\n",
       " Row(reviewerID=&#39;A3N4I8JLE6L9HS&#39;, avg(overall)=4.75),\n",
       " Row(reviewerID=&#39;A3IFDR4FUX5AIB&#39;, avg(overall)=3.6),\n",
       " Row(reviewerID=&#39;A39ON8YQHXP1MB&#39;, avg(overall)=3.7333333333333334),\n",
       " Row(reviewerID=&#39;A16N4QIGE921LK&#39;, avg(overall)=4.0),\n",
       " Row(reviewerID=&#39;A3D850PFAJVNEA&#39;, avg(overall)=4.4),\n",
       " Row(reviewerID=&#39;A32MCPM5YP62DP&#39;, avg(overall)=3.7142857142857144),\n",
       " Row(reviewerID=&#39;A4P1ZUA0W3D4P&#39;, avg(overall)=4.714285714285714),\n",
       " Row(reviewerID=&#39;A2ECM9HLMC242H&#39;, avg(overall)=3.6666666666666665),\n",
       " ...]</div>"
      ]
     },
     "metadata": {},
     "output_type": "display_data"
    }
   ],
   "source": [
    "aggs = counts_df.groupBy('reviewerID').agg({'overall': 'mean'})\n",
    "aggs.collect()"
   ]
  },
  {
   "cell_type": "markdown",
   "metadata": {},
   "source": [
    "### A few more basic commands\n",
    "\n",
    "Please refer also to the [official programming guide](http://spark.apache.org/docs/latest/rdd-programming-guide.html)."
   ]
  },
  {
   "cell_type": "code",
   "execution_count": 67,
   "metadata": {},
   "outputs": [],
   "source": [
    "data = [1, 2, 3, 4, 5]\n",
    "distData = sc.parallelize(data)"
   ]
  },
  {
   "cell_type": "code",
   "execution_count": 68,
   "metadata": {},
   "outputs": [],
   "source": [
    "distData."
   ]
  },
  {
   "cell_type": "code",
   "execution_count": 69,
   "metadata": {},
   "outputs": [],
   "source": [
    "def multiply(a, b):\n",
    "    return a * b"
   ]
  },
  {
   "cell_type": "code",
   "execution_count": 70,
   "metadata": {},
   "outputs": [],
   "source": [
    "distData.reduce(multiply)"
   ]
  },
  {
   "cell_type": "code",
   "execution_count": 71,
   "metadata": {},
   "outputs": [],
   "source": [
    "def subtract1(a, b):\n",
    "    return a - b"
   ]
  },
  {
   "cell_type": "code",
   "execution_count": 72,
   "metadata": {},
   "outputs": [],
   "source": [
    "distData.reduce(subtract1)"
   ]
  },
  {
   "cell_type": "code",
   "execution_count": 73,
   "metadata": {},
   "outputs": [],
   "source": [
    "def subtract2(a, b):\n",
    "    return b - a"
   ]
  },
  {
   "cell_type": "code",
   "execution_count": 74,
   "metadata": {},
   "outputs": [],
   "source": [
    "distData.reduce(subtract2)"
   ]
  },
  {
   "cell_type": "markdown",
   "metadata": {},
   "source": [
    "Can you explain these \"subtraction\" results?"
   ]
  },
  {
   "cell_type": "code",
   "execution_count": 76,
   "metadata": {},
   "outputs": [],
   "source": [
    "distData.filter(lambda x: x < 4).collect()"
   ]
  },
  {
   "cell_type": "markdown",
   "metadata": {},
   "source": [
    "### Reading files\n",
    "\n",
    "```sc.textFile()``` for .txt files"
   ]
  },
  {
   "cell_type": "code",
   "execution_count": 78,
   "metadata": {},
   "outputs": [],
   "source": []
  },
  {
   "cell_type": "markdown",
   "metadata": {},
   "source": [
    "`.toJSON()` for .json files"
   ]
  },
  {
   "cell_type": "code",
   "execution_count": 80,
   "metadata": {},
   "outputs": [],
   "source": [
    "dfjson = counts_df.toJSON()"
   ]
  },
  {
   "cell_type": "code",
   "execution_count": 81,
   "metadata": {},
   "outputs": [],
   "source": [
    "df2 = spark.read.json(dfjson)"
   ]
  },
  {
   "cell_type": "code",
   "execution_count": 82,
   "metadata": {},
   "outputs": [],
   "source": [
    "df2.printSchema()"
   ]
  },
  {
   "cell_type": "code",
   "execution_count": 83,
   "metadata": {},
   "outputs": [],
   "source": [
    "counts_df"
   ]
  },
  {
   "cell_type": "code",
   "execution_count": 84,
   "metadata": {},
   "outputs": [],
   "source": [
    "type(df.toPandas())"
   ]
  },
  {
   "cell_type": "code",
   "execution_count": 85,
   "metadata": {},
   "outputs": [],
   "source": []
  }
 ],
 "metadata": {
  "kernelspec": {
   "display_name": "Python 3",
   "language": "python",
   "name": "python3"
  },
  "language_info": {
   "codemirror_mode": {
    "name": "ipython",
    "version": 3
   },
   "file_extension": ".py",
   "mimetype": "text/x-python",
   "name": "python",
   "nbconvert_exporter": "python",
   "pygments_lexer": "ipython3",
   "version": "3.7.2"
  },
  "name": "02-spark-programming",
  "notebookId": 3907748708932973
 },
 "nbformat": 4,
 "nbformat_minor": 4
}
